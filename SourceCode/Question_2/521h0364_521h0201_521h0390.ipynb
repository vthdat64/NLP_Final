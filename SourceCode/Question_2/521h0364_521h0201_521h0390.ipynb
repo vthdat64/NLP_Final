{
 "cells": [
  {
   "cell_type": "markdown",
   "metadata": {},
   "source": [
    "# Lê Nguyễn Tuyết Nhi - 521h0364 \n",
    "# Trương Gia Bảo - 521h0201 \n",
    "# Vi Thành Đạt - 521h0390\n",
    "\n",
    "# Final Project "
   ]
  },
  {
   "cell_type": "code",
   "execution_count": 1,
   "metadata": {},
   "outputs": [],
   "source": [
    "import json\n",
    "import pandas as pd\n",
    "import numpy as np\n",
    "import tensorflow as tf\n",
    "from sklearn.model_selection import train_test_split\n",
    "from transformers import BertTokenizer, TFBertModel\n",
    "from tensorflow.keras.layers import Dense, Input\n",
    "from tensorflow.keras.models import Model"
   ]
  },
  {
   "cell_type": "code",
   "execution_count": 2,
   "metadata": {},
   "outputs": [
    {
     "data": {
      "text/html": [
       "<div>\n",
       "<style scoped>\n",
       "    .dataframe tbody tr th:only-of-type {\n",
       "        vertical-align: middle;\n",
       "    }\n",
       "\n",
       "    .dataframe tbody tr th {\n",
       "        vertical-align: top;\n",
       "    }\n",
       "\n",
       "    .dataframe thead th {\n",
       "        text-align: right;\n",
       "    }\n",
       "</style>\n",
       "<table border=\"1\" class=\"dataframe\">\n",
       "  <thead>\n",
       "    <tr style=\"text-align: right;\">\n",
       "      <th></th>\n",
       "      <th>input</th>\n",
       "      <th>output.Customer Name</th>\n",
       "      <th>output.Address</th>\n",
       "      <th>output.Phone Number</th>\n",
       "      <th>output.Order Number</th>\n",
       "      <th>output.Request Item</th>\n",
       "      <th>output.Actions</th>\n",
       "    </tr>\n",
       "  </thead>\n",
       "  <tbody>\n",
       "    <tr>\n",
       "      <th>0</th>\n",
       "      <td>Chào bạn, tôi đang gặp vấn đề với đơn hàng số ...</td>\n",
       "      <td>None</td>\n",
       "      <td>123 đường Trần Hưng Đạo, Hà Nội</td>\n",
       "      <td>0901234567</td>\n",
       "      <td>ABC123XYZ</td>\n",
       "      <td>Kiểm tra tình trạng đơn hàng</td>\n",
       "      <td>[Cập nhật thông tin đơn hàng cho khách hàng]</td>\n",
       "    </tr>\n",
       "  </tbody>\n",
       "</table>\n",
       "</div>"
      ],
      "text/plain": [
       "                                               input output.Customer Name  \\\n",
       "0  Chào bạn, tôi đang gặp vấn đề với đơn hàng số ...                 None   \n",
       "\n",
       "                    output.Address output.Phone Number output.Order Number  \\\n",
       "0  123 đường Trần Hưng Đạo, Hà Nội          0901234567           ABC123XYZ   \n",
       "\n",
       "            output.Request Item                                output.Actions  \n",
       "0  Kiểm tra tình trạng đơn hàng  [Cập nhật thông tin đơn hàng cho khách hàng]  "
      ]
     },
     "execution_count": 2,
     "metadata": {},
     "output_type": "execute_result"
    }
   ],
   "source": [
    "# Load the JSON data\n",
    "data = [\n",
    "    {\n",
    "        \"input\": \"Chào bạn, tôi đang gặp vấn đề với đơn hàng số ABC123XYZ...\",\n",
    "        \"output\": {\n",
    "            \"Customer Name\": None,\n",
    "            \"Address\": \"123 đường Trần Hưng Đạo, Hà Nội\",\n",
    "            \"Phone Number\": \"0901234567\",\n",
    "            \"Order Number\": \"ABC123XYZ\",\n",
    "            \"Request Item\": \"Kiểm tra tình trạng đơn hàng\",\n",
    "            \"Actions\": [\n",
    "                \"Cập nhật thông tin đơn hàng cho khách hàng\"\n",
    "            ]\n",
    "        }\n",
    "    },\n",
    "    # Add the remaining entries...\n",
    "]\n",
    "\n",
    "# Convert to DataFrame\n",
    "df = pd.json_normalize(data)\n",
    "df"
   ]
  },
  {
   "cell_type": "code",
   "execution_count": null,
   "metadata": {},
   "outputs": [],
   "source": [
    "\n",
    "# Prepare input and output\n",
    "X = df['input'].tolist()\n",
    "\n",
    "# Prepare output as a dictionary of features\n",
    "y = df['output'].apply(lambda x: {\n",
    "    \"customer_name\": x['Customer Name'] or \"\",\n",
    "    \"address\": x['Address'],\n",
    "    \"phone_number\": x['Phone Number'] or \"\",\n",
    "    \"order_number\": x['Order Number'],\n",
    "    \"request_item\": x['Request Item'],\n",
    "    \"actions\": ', '.join(x['Actions'])\n",
    "}).tolist()\n",
    "\n",
    "# Split the dataset\n",
    "X_train, X_val, y_train, y_val = train_test_split(X, y, test_size=0.2, random_state=42)"
   ]
  }
 ],
 "metadata": {
  "kernelspec": {
   "display_name": "Python 3",
   "language": "python",
   "name": "python3"
  },
  "language_info": {
   "codemirror_mode": {
    "name": "ipython",
    "version": 3
   },
   "file_extension": ".py",
   "mimetype": "text/x-python",
   "name": "python",
   "nbconvert_exporter": "python",
   "pygments_lexer": "ipython3",
   "version": "3.11.0"
  }
 },
 "nbformat": 4,
 "nbformat_minor": 2
}
