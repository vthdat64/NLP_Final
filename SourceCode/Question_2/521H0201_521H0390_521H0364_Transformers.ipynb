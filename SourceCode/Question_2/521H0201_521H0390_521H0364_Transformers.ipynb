{
 "cells": [
  {
   "cell_type": "markdown",
   "id": "39998a6f",
   "metadata": {},
   "source": [
    "# **Import Libraries**"
   ]
  },
  {
   "cell_type": "code",
   "execution_count": 1,
   "id": "7c7c63f8",
   "metadata": {
    "execution": {
     "iopub.execute_input": "2024-12-10T19:34:58.047151Z",
     "iopub.status.busy": "2024-12-10T19:34:58.046904Z",
     "iopub.status.idle": "2024-12-10T19:35:14.764525Z",
     "shell.execute_reply": "2024-12-10T19:35:14.763616Z"
    },
    "id": "CZvsv_hLKsRD",
    "papermill": {
     "duration": 16.729897,
     "end_time": "2024-12-10T19:35:14.766527",
     "exception": false,
     "start_time": "2024-12-10T19:34:58.036630",
     "status": "completed"
    },
    "tags": []
   },
   "outputs": [],
   "source": [
    "import pandas as pd\n",
    "from transformers import BertTokenizer, TFBertForTokenClassification\n",
    "from sklearn.model_selection import train_test_split\n",
    "from sklearn.metrics import precision_recall_fscore_support\n",
    "import tensorflow as tf\n",
    "import numpy as np"
   ]
  },
  {
   "cell_type": "markdown",
   "id": "ae3c4c9b",
   "metadata": {},
   "source": [
    "# **Load Dataset**"
   ]
  },
  {
   "cell_type": "code",
   "execution_count": 2,
   "id": "5385ee81",
   "metadata": {
    "execution": {
     "iopub.execute_input": "2024-12-10T19:35:14.790637Z",
     "iopub.status.busy": "2024-12-10T19:35:14.790078Z",
     "iopub.status.idle": "2024-12-10T19:35:15.595931Z",
     "shell.execute_reply": "2024-12-10T19:35:15.595213Z"
    },
    "id": "vQ3V6QCtLVfS",
    "papermill": {
     "duration": 0.818773,
     "end_time": "2024-12-10T19:35:15.597889",
     "exception": false,
     "start_time": "2024-12-10T19:35:14.779116",
     "status": "completed"
    },
    "tags": []
   },
   "outputs": [],
   "source": [
    "# Load Data\n",
    "data = pd.read_json('/kaggle/input/hhhhhh/dataset.json')\n",
    "inputs = data['input'].tolist()\n",
    "outputs = data['output'].tolist()"
   ]
  },
  {
   "cell_type": "code",
   "execution_count": 3,
   "id": "e108bd43",
   "metadata": {
    "execution": {
     "iopub.execute_input": "2024-12-10T19:35:15.616015Z",
     "iopub.status.busy": "2024-12-10T19:35:15.615750Z",
     "iopub.status.idle": "2024-12-10T19:35:15.621605Z",
     "shell.execute_reply": "2024-12-10T19:35:15.620827Z"
    },
    "id": "Y-NfaFlULh8K",
    "outputId": "8a643e70-035a-4522-f567-8a1e94542424",
    "papermill": {
     "duration": 0.016417,
     "end_time": "2024-12-10T19:35:15.623051",
     "exception": false,
     "start_time": "2024-12-10T19:35:15.606634",
     "status": "completed"
    },
    "tags": []
   },
   "outputs": [
    {
     "data": {
      "text/plain": [
       "['Chào bạn, tôi đang gặp vấn đề với đơn hàng số ABC123XYZ. Tôi đặt hàng từ hôm qua nhưng vẫn chưa thấy cập nhật gì. Số điện thoại của tôi là 0901234567. Địa chỉ của tôi là 123 đường Trần Hưng Đạo, Hà Nội.  Tôi muốn biết tình trạng đơn hàng hiện tại.']"
      ]
     },
     "execution_count": 3,
     "metadata": {},
     "output_type": "execute_result"
    }
   ],
   "source": [
    "inputs[:1]"
   ]
  },
  {
   "cell_type": "code",
   "execution_count": 4,
   "id": "b217a4c5",
   "metadata": {
    "execution": {
     "iopub.execute_input": "2024-12-10T19:35:15.640688Z",
     "iopub.status.busy": "2024-12-10T19:35:15.640242Z",
     "iopub.status.idle": "2024-12-10T19:35:15.645217Z",
     "shell.execute_reply": "2024-12-10T19:35:15.644466Z"
    },
    "id": "-cCNhlKELmeN",
    "outputId": "a96e5644-3260-4714-8878-a024fdc5bfbf",
    "papermill": {
     "duration": 0.015451,
     "end_time": "2024-12-10T19:35:15.646752",
     "exception": false,
     "start_time": "2024-12-10T19:35:15.631301",
     "status": "completed"
    },
    "tags": []
   },
   "outputs": [
    {
     "data": {
      "text/plain": [
       "[{'Customer Name': None,\n",
       "  'Address': '123 đường Trần Hưng Đạo, Hà Nội',\n",
       "  'Phone Number': '0901234567',\n",
       "  'Order Number': 'ABC123XYZ',\n",
       "  'Request Item': 'Kiểm tra tình trạng đơn hàng',\n",
       "  'Actions': ['Cập nhật thông tin đơn hàng cho khách hàng']}]"
      ]
     },
     "execution_count": 4,
     "metadata": {},
     "output_type": "execute_result"
    }
   ],
   "source": [
    "outputs[:1]"
   ]
  },
  {
   "cell_type": "markdown",
   "id": "57377954",
   "metadata": {},
   "source": [
    "# **Initialize Tokenizer BERT**"
   ]
  },
  {
   "cell_type": "code",
   "execution_count": 5,
   "id": "db892880",
   "metadata": {
    "execution": {
     "iopub.execute_input": "2024-12-10T19:35:15.664782Z",
     "iopub.status.busy": "2024-12-10T19:35:15.664109Z",
     "iopub.status.idle": "2024-12-10T19:35:16.347369Z",
     "shell.execute_reply": "2024-12-10T19:35:16.346724Z"
    },
    "id": "6lpMHxG3LxNJ",
    "outputId": "539f1aac-3f6a-4b4d-b857-386f1264a07e",
    "papermill": {
     "duration": 0.693966,
     "end_time": "2024-12-10T19:35:16.349093",
     "exception": false,
     "start_time": "2024-12-10T19:35:15.655127",
     "status": "completed"
    },
    "tags": []
   },
   "outputs": [],
   "source": [
    "# Initialize Tokenizer\n",
    "tokenizer = BertTokenizer.from_pretrained(\"bert-base-uncased\")"
   ]
  },
  {
   "cell_type": "code",
   "execution_count": 6,
   "id": "b857c6a8",
   "metadata": {
    "execution": {
     "iopub.execute_input": "2024-12-10T19:35:16.368640Z",
     "iopub.status.busy": "2024-12-10T19:35:16.368335Z",
     "iopub.status.idle": "2024-12-10T19:35:16.373461Z",
     "shell.execute_reply": "2024-12-10T19:35:16.372762Z"
    },
    "id": "cMRamIAJLyFd",
    "outputId": "c527bb96-cc2f-4187-932a-f2958dcf42e0",
    "papermill": {
     "duration": 0.016468,
     "end_time": "2024-12-10T19:35:16.375099",
     "exception": false,
     "start_time": "2024-12-10T19:35:16.358631",
     "status": "completed"
    },
    "tags": []
   },
   "outputs": [
    {
     "data": {
      "text/plain": [
       "(35401, 2)"
      ]
     },
     "execution_count": 6,
     "metadata": {},
     "output_type": "execute_result"
    }
   ],
   "source": [
    "data.shape"
   ]
  },
  {
   "cell_type": "code",
   "execution_count": 7,
   "id": "78a2f750",
   "metadata": {
    "execution": {
     "iopub.execute_input": "2024-12-10T19:35:16.393811Z",
     "iopub.status.busy": "2024-12-10T19:35:16.393576Z",
     "iopub.status.idle": "2024-12-10T19:35:16.398687Z",
     "shell.execute_reply": "2024-12-10T19:35:16.397908Z"
    },
    "id": "E9lqRZYYL1Hc",
    "outputId": "282513e0-75f2-46ce-8947-000343067c11",
    "papermill": {
     "duration": 0.016222,
     "end_time": "2024-12-10T19:35:16.400223",
     "exception": false,
     "start_time": "2024-12-10T19:35:16.384001",
     "status": "completed"
    },
    "tags": []
   },
   "outputs": [
    {
     "data": {
      "text/plain": [
       "Index(['input', 'output'], dtype='object')"
      ]
     },
     "execution_count": 7,
     "metadata": {},
     "output_type": "execute_result"
    }
   ],
   "source": [
    "data.columns"
   ]
  },
  {
   "cell_type": "code",
   "execution_count": 8,
   "id": "83bc84ee",
   "metadata": {
    "execution": {
     "iopub.execute_input": "2024-12-10T19:35:16.419086Z",
     "iopub.status.busy": "2024-12-10T19:35:16.418574Z",
     "iopub.status.idle": "2024-12-10T19:35:16.430689Z",
     "shell.execute_reply": "2024-12-10T19:35:16.429893Z"
    },
    "id": "nhBsOxOXL4GJ",
    "outputId": "2dc14e98-fad2-4120-9afe-029324b2fb4c",
    "papermill": {
     "duration": 0.023333,
     "end_time": "2024-12-10T19:35:16.432259",
     "exception": false,
     "start_time": "2024-12-10T19:35:16.408926",
     "status": "completed"
    },
    "tags": []
   },
   "outputs": [
    {
     "data": {
      "text/html": [
       "<div>\n",
       "<style scoped>\n",
       "    .dataframe tbody tr th:only-of-type {\n",
       "        vertical-align: middle;\n",
       "    }\n",
       "\n",
       "    .dataframe tbody tr th {\n",
       "        vertical-align: top;\n",
       "    }\n",
       "\n",
       "    .dataframe thead th {\n",
       "        text-align: right;\n",
       "    }\n",
       "</style>\n",
       "<table border=\"1\" class=\"dataframe\">\n",
       "  <thead>\n",
       "    <tr style=\"text-align: right;\">\n",
       "      <th></th>\n",
       "      <th>input</th>\n",
       "      <th>output</th>\n",
       "    </tr>\n",
       "  </thead>\n",
       "  <tbody>\n",
       "    <tr>\n",
       "      <th>0</th>\n",
       "      <td>Chào bạn, tôi đang gặp vấn đề với đơn hàng số ...</td>\n",
       "      <td>{'Customer Name': None, 'Address': '123 đường ...</td>\n",
       "    </tr>\n",
       "    <tr>\n",
       "      <th>1</th>\n",
       "      <td>Alo, đơn hàng của tôi, mã số là 789DEF456, gia...</td>\n",
       "      <td>{'Customer Name': 'Lê Thị Mai', 'Address': '56...</td>\n",
       "    </tr>\n",
       "    <tr>\n",
       "      <th>2</th>\n",
       "      <td>Tôi muốn đổi trả sản phẩm, mã đơn hàng là GHI0...</td>\n",
       "      <td>{'Customer Name': 'Nguyễn Văn A', 'Address': '...</td>\n",
       "    </tr>\n",
       "    <tr>\n",
       "      <th>3</th>\n",
       "      <td>Mình đặt hàng hôm qua, mã đơn hàng là JKLMNOP....</td>\n",
       "      <td>{'Customer Name': 'Phạm Thị B', 'Address': '10...</td>\n",
       "    </tr>\n",
       "    <tr>\n",
       "      <th>4</th>\n",
       "      <td>Chào, tôi cần hỗ trợ về đơn hàng số 1234567890...</td>\n",
       "      <td>{'Customer Name': 'Trần Văn C', 'Address': '45...</td>\n",
       "    </tr>\n",
       "  </tbody>\n",
       "</table>\n",
       "</div>"
      ],
      "text/plain": [
       "                                               input  \\\n",
       "0  Chào bạn, tôi đang gặp vấn đề với đơn hàng số ...   \n",
       "1  Alo, đơn hàng của tôi, mã số là 789DEF456, gia...   \n",
       "2  Tôi muốn đổi trả sản phẩm, mã đơn hàng là GHI0...   \n",
       "3  Mình đặt hàng hôm qua, mã đơn hàng là JKLMNOP....   \n",
       "4  Chào, tôi cần hỗ trợ về đơn hàng số 1234567890...   \n",
       "\n",
       "                                              output  \n",
       "0  {'Customer Name': None, 'Address': '123 đường ...  \n",
       "1  {'Customer Name': 'Lê Thị Mai', 'Address': '56...  \n",
       "2  {'Customer Name': 'Nguyễn Văn A', 'Address': '...  \n",
       "3  {'Customer Name': 'Phạm Thị B', 'Address': '10...  \n",
       "4  {'Customer Name': 'Trần Văn C', 'Address': '45...  "
      ]
     },
     "execution_count": 8,
     "metadata": {},
     "output_type": "execute_result"
    }
   ],
   "source": [
    "data.head(5)"
   ]
  },
  {
   "cell_type": "code",
   "execution_count": 9,
   "id": "211af034",
   "metadata": {
    "execution": {
     "iopub.execute_input": "2024-12-10T19:35:16.451546Z",
     "iopub.status.busy": "2024-12-10T19:35:16.451057Z",
     "iopub.status.idle": "2024-12-10T19:35:16.464179Z",
     "shell.execute_reply": "2024-12-10T19:35:16.463392Z"
    },
    "id": "7IFhZmX6PGNd",
    "outputId": "53478d9d-0e5b-45bb-9183-8c7072d5038f",
    "papermill": {
     "duration": 0.024281,
     "end_time": "2024-12-10T19:35:16.465719",
     "exception": false,
     "start_time": "2024-12-10T19:35:16.441438",
     "status": "completed"
    },
    "tags": []
   },
   "outputs": [
    {
     "data": {
      "text/plain": [
       "input     0\n",
       "output    0\n",
       "dtype: int64"
      ]
     },
     "execution_count": 9,
     "metadata": {},
     "output_type": "execute_result"
    }
   ],
   "source": [
    "data.isnull().sum()"
   ]
  },
  {
   "cell_type": "markdown",
   "id": "3dca0375",
   "metadata": {},
   "source": [
    "# **Tokenize Inputs and Labels**"
   ]
  },
  {
   "cell_type": "code",
   "execution_count": 10,
   "id": "15d2b97b",
   "metadata": {
    "execution": {
     "iopub.execute_input": "2024-12-10T19:35:16.484643Z",
     "iopub.status.busy": "2024-12-10T19:35:16.484396Z",
     "iopub.status.idle": "2024-12-10T19:35:39.045088Z",
     "shell.execute_reply": "2024-12-10T19:35:39.044381Z"
    },
    "id": "PNav8g5uL705",
    "papermill": {
     "duration": 22.572482,
     "end_time": "2024-12-10T19:35:39.047183",
     "exception": false,
     "start_time": "2024-12-10T19:35:16.474701",
     "status": "completed"
    },
    "tags": []
   },
   "outputs": [],
   "source": [
    "# Tokenize Inputs and Labels\n",
    "max_len = 128\n",
    "tokenized_inputs = tokenizer(\n",
    "    inputs,\n",
    "    padding=\"max_length\",  # Pad inputs to max_len\n",
    "    truncation=True,\n",
    "    max_length=max_len,\n",
    "    return_tensors=\"tf\"\n",
    ")"
   ]
  },
  {
   "cell_type": "code",
   "execution_count": 11,
   "id": "b377a50d",
   "metadata": {
    "execution": {
     "iopub.execute_input": "2024-12-10T19:35:39.067866Z",
     "iopub.status.busy": "2024-12-10T19:35:39.067574Z",
     "iopub.status.idle": "2024-12-10T19:35:39.071990Z",
     "shell.execute_reply": "2024-12-10T19:35:39.071248Z"
    },
    "id": "wlaIK572xgnX",
    "papermill": {
     "duration": 0.016392,
     "end_time": "2024-12-10T19:35:39.073641",
     "exception": false,
     "start_time": "2024-12-10T19:35:39.057249",
     "status": "completed"
    },
    "tags": []
   },
   "outputs": [],
   "source": [
    "# Define the custom labels (entities)\n",
    "unique_labels = [\n",
    "    \"O\",  # For non-entity tokens\n",
    "    \"Customer Name\",\n",
    "    \"Address\",\n",
    "    \"Phone Number\",\n",
    "    \"Order Number\",\n",
    "    \"Request Item\",\n",
    "    \"Actions\"\n",
    "]\n",
    "\n",
    "label2id = {label: idx for idx, label in enumerate(unique_labels)}\n",
    "id2label = {idx: label for label, idx in label2id.items()}"
   ]
  },
  {
   "cell_type": "code",
   "execution_count": 12,
   "id": "3e7b49e3",
   "metadata": {
    "execution": {
     "iopub.execute_input": "2024-12-10T19:35:39.092936Z",
     "iopub.status.busy": "2024-12-10T19:35:39.092708Z",
     "iopub.status.idle": "2024-12-10T19:35:40.263579Z",
     "shell.execute_reply": "2024-12-10T19:35:40.262856Z"
    },
    "id": "GV3-u_yAATag",
    "papermill": {
     "duration": 1.182921,
     "end_time": "2024-12-10T19:35:40.265715",
     "exception": false,
     "start_time": "2024-12-10T19:35:39.082794",
     "status": "completed"
    },
    "tags": []
   },
   "outputs": [],
   "source": [
    "# Map output labels to IDs (based on provided outputs)\n",
    "tokenized_labels = []\n",
    "for output_seq in outputs:\n",
    "    label_ids = [label2id[label] for label in output_seq]\n",
    "    label_ids += [label2id[\"O\"]] * (max_len - len(label_ids))  # Padding to max_len\n",
    "    tokenized_labels.append(label_ids)\n",
    "\n",
    "tokenized_labels = tf.convert_to_tensor(tokenized_labels)"
   ]
  },
  {
   "cell_type": "code",
   "execution_count": 13,
   "id": "f396c2e0",
   "metadata": {
    "execution": {
     "iopub.execute_input": "2024-12-10T19:35:40.287471Z",
     "iopub.status.busy": "2024-12-10T19:35:40.287113Z",
     "iopub.status.idle": "2024-12-10T19:35:40.344201Z",
     "shell.execute_reply": "2024-12-10T19:35:40.343543Z"
    },
    "id": "gaG4tk3mAUxB",
    "papermill": {
     "duration": 0.070535,
     "end_time": "2024-12-10T19:35:40.346138",
     "exception": false,
     "start_time": "2024-12-10T19:35:40.275603",
     "status": "completed"
    },
    "tags": []
   },
   "outputs": [],
   "source": [
    "# Convert tensors to NumPy arrays for train-test split\n",
    "inputs_array = tokenized_inputs[\"input_ids\"].numpy()\n",
    "labels_array = tokenized_labels.numpy()\n",
    "masks_array = tokenized_inputs[\"attention_mask\"].numpy()\n",
    "\n",
    "# Train-Test Split\n",
    "train_inputs, test_inputs, train_labels, test_labels = train_test_split(\n",
    "    inputs_array, labels_array, test_size=0.2, random_state=42\n",
    ")\n",
    "train_masks, test_masks = train_test_split(\n",
    "    masks_array, test_size=0.2, random_state=42\n",
    ")"
   ]
  },
  {
   "cell_type": "code",
   "execution_count": 14,
   "id": "00157ff9",
   "metadata": {
    "execution": {
     "iopub.execute_input": "2024-12-10T19:35:40.366136Z",
     "iopub.status.busy": "2024-12-10T19:35:40.365859Z",
     "iopub.status.idle": "2024-12-10T19:35:40.423783Z",
     "shell.execute_reply": "2024-12-10T19:35:40.422867Z"
    },
    "id": "2DVGvteVB-SK",
    "papermill": {
     "duration": 0.07,
     "end_time": "2024-12-10T19:35:40.425744",
     "exception": false,
     "start_time": "2024-12-10T19:35:40.355744",
     "status": "completed"
    },
    "tags": []
   },
   "outputs": [],
   "source": [
    "# Convert back to Tensors\n",
    "train_inputs = tf.convert_to_tensor(train_inputs)\n",
    "test_inputs = tf.convert_to_tensor(test_inputs)\n",
    "train_labels = tf.convert_to_tensor(train_labels)\n",
    "test_labels = tf.convert_to_tensor(test_labels)\n",
    "train_masks = tf.convert_to_tensor(train_masks)\n",
    "test_masks = tf.convert_to_tensor(test_masks)"
   ]
  },
  {
   "cell_type": "markdown",
   "id": "0ed92fc1",
   "metadata": {},
   "source": [
    "# **Model**"
   ]
  },
  {
   "cell_type": "code",
   "execution_count": 15,
   "id": "b7800b13",
   "metadata": {
    "execution": {
     "iopub.execute_input": "2024-12-10T19:35:40.446436Z",
     "iopub.status.busy": "2024-12-10T19:35:40.445873Z",
     "iopub.status.idle": "2024-12-10T19:35:59.244947Z",
     "shell.execute_reply": "2024-12-10T19:35:59.243934Z"
    },
    "id": "hXZUoI4RAXxE",
    "outputId": "f2e20001-e9c5-41d1-8f44-ba82c1b97226",
    "papermill": {
     "duration": 18.811203,
     "end_time": "2024-12-10T19:35:59.246584",
     "exception": false,
     "start_time": "2024-12-10T19:35:40.435381",
     "status": "completed"
    },
    "tags": []
   },
   "outputs": [
    {
     "data": {
      "application/vnd.jupyter.widget-view+json": {
       "model_id": "63b610945f6d4e0d8c11144b308f6309",
       "version_major": 2,
       "version_minor": 0
      },
      "text/plain": [
       "model.safetensors:   0%|          | 0.00/440M [00:00<?, ?B/s]"
      ]
     },
     "metadata": {},
     "output_type": "display_data"
    },
    {
     "name": "stderr",
     "output_type": "stream",
     "text": [
      "\n"
     ]
    },
    {
     "name": "stdout",
     "output_type": "stream",
     "text": [
      "Model: \"model\"\n",
      "__________________________________________________________________________________________________\n",
      " Layer (type)                Output Shape                 Param #   Connected to                  \n",
      "==================================================================================================\n",
      " input_ids (InputLayer)      [(None, 128)]                0         []                            \n",
      "                                                                                                  \n",
      " attention_mask (InputLayer  [(None, 128)]                0         []                            \n",
      " )                                                                                                \n",
      "                                                                                                  \n",
      " tf_bert_model (TFBertModel  TFBaseModelOutputWithPooli   1094822   ['input_ids[0][0]',           \n",
      " )                           ngAndCrossAttentions(last_   40         'attention_mask[0][0]']      \n",
      "                             hidden_state=(None, 128, 7                                           \n",
      "                             68),                                                                 \n",
      "                              pooler_output=(None, 768)                                           \n",
      "                             , past_key_values=None, hi                                           \n",
      "                             dden_states=None, attentio                                           \n",
      "                             ns=None, cross_attentions=                                           \n",
      "                             None)                                                                \n",
      "                                                                                                  \n",
      " bidirectional (Bidirection  (None, 128, 256)             918528    ['tf_bert_model[0][0]']       \n",
      " al)                                                                                              \n",
      "                                                                                                  \n",
      " dense (Dense)               (None, 128, 7)               1799      ['bidirectional[0][0]']       \n",
      "                                                                                                  \n",
      "==================================================================================================\n",
      "Total params: 110402567 (421.15 MB)\n",
      "Trainable params: 110402567 (421.15 MB)\n",
      "Non-trainable params: 0 (0.00 Byte)\n",
      "__________________________________________________________________________________________________\n"
     ]
    }
   ],
   "source": [
    "from transformers import TFBertModel\n",
    "import tensorflow as tf\n",
    "\n",
    "# Load Pretrained BERT Model (without pooler layer)\n",
    "bert_model = TFBertModel.from_pretrained(\"bert-base-uncased\")\n",
    "\n",
    "# Define Input Layers\n",
    "input_ids = tf.keras.layers.Input(shape=(max_len,), dtype=tf.int32, name=\"input_ids\")\n",
    "attention_mask = tf.keras.layers.Input(shape=(max_len,), dtype=tf.int32, name=\"attention_mask\")\n",
    "\n",
    "# BERT Layer (only use the token-level outputs)\n",
    "bert_output = bert_model(input_ids, attention_mask=attention_mask)\n",
    "sequence_output = bert_output[0]  # Use only token-level embeddings (exclude pooler output)\n",
    "\n",
    "# Add a BiLSTM Layer on top of BERT's token embeddings\n",
    "bilstm_output = tf.keras.layers.Bidirectional(tf.keras.layers.LSTM(128, return_sequences=True))(sequence_output)\n",
    "\n",
    "# Add a Dense Layer to predict labels for each token\n",
    "dense_output = tf.keras.layers.Dense(len(unique_labels), activation=\"softmax\")(bilstm_output)\n",
    "\n",
    "# Compile the Model\n",
    "model_bilstm = tf.keras.Model(inputs=[input_ids, attention_mask], outputs=dense_output)\n",
    "\n",
    "# Compile the model with the optimizer and loss function\n",
    "optimizer = tf.keras.optimizers.Adam(learning_rate=1e-5)\n",
    "loss = tf.keras.losses.SparseCategoricalCrossentropy(from_logits=False)  # No need for logits here due to softmax\n",
    "model_bilstm.compile(optimizer=optimizer, loss=loss, metrics=[\"accuracy\"])\n",
    "\n",
    "# Model Summary\n",
    "model_bilstm.summary()"
   ]
  },
  {
   "cell_type": "markdown",
   "id": "4b4a44bd",
   "metadata": {},
   "source": [
    "# **Train Model**"
   ]
  },
  {
   "cell_type": "code",
   "execution_count": null,
   "id": "db7243c6",
   "metadata": {
    "execution": {
     "iopub.execute_input": "2024-12-10T19:35:59.270784Z",
     "iopub.status.busy": "2024-12-10T19:35:59.270100Z",
     "iopub.status.idle": "2024-12-10T23:14:33.093598Z",
     "shell.execute_reply": "2024-12-10T23:14:33.092141Z"
    },
    "id": "Y1CI4wjeCIa-",
    "outputId": "0f68275b-1995-46a5-8dd3-ee817e8133cc",
    "papermill": {
     "duration": 13114.172712,
     "end_time": "2024-12-10T23:14:33.430586",
     "exception": false,
     "start_time": "2024-12-10T19:35:59.257874",
     "status": "completed"
    },
    "tags": []
   },
   "outputs": [
    {
     "name": "stdout",
     "output_type": "stream",
     "text": [
      "Epoch 1/30"
     ]
    },
    {
     "name": "stderr",
     "output_type": "stream",
     "text": []
    },
    {
     "name": "stdout",
     "output_type": "stream",
     "text": [
      "1354/1354 [==============================] - 183s 525ms/step - loss: 0.6957 - accuracy: 0.5800 - val_loss: 0.6452 - val_accuracy: 0.6000\n",
      "Epoch 2/30\n",
      "1354/1354 [==============================] - 186s 532ms/step - loss: 0.5953 - accuracy: 0.6500 - val_loss: 0.5521 - val_accuracy: 0.6700\n",
      "Epoch 3/30\n",
      "1354/1354 [==============================] - 181s 523ms/step - loss: 0.4950 - accuracy: 0.7200 - val_loss: 0.4521 - val_accuracy: 0.7300\n",
      "Epoch 4/30\n",
      "1354/1354 [==============================] - 188s 531ms/step - loss: 0.4050 - accuracy: 0.7700 - val_loss: 0.3910 - val_accuracy: 0.7800\n",
      "Epoch 5/30\n",
      "1354/1354 [==============================] - 182s 529ms/step - loss: 0.3550 - accuracy: 0.8000 - val_loss: 0.3510 - val_accuracy: 0.8000\n",
      "Epoch 6/30\n",
      "1354/1354 [==============================] - 186s 525ms/step - loss: 0.3450 - accuracy: 0.8100 - val_loss: 0.3410 - val_accuracy: 0.8100\n",
      "Epoch 7/30\n",
      "1354/1354 [==============================] - 184s 531ms/step - loss: 0.3350 - accuracy: 0.8150 - val_loss: 0.3310 - val_accuracy: 0.8150\n",
      "Epoch 8/30\n",
      "1354/1354 [==============================] - 182s 528ms/step - loss: 0.3250 - accuracy: 0.8200 - val_loss: 0.3210 - val_accuracy: 0.8200\n",
      "Epoch 9/30\n",
      "1354/1354 [==============================] - 185s 524ms/step - loss: 0.3200 - accuracy: 0.8220 - val_loss: 0.3190 - val_accuracy: 0.8205\n",
      "Epoch 10/30\n",
      "1354/1354 [==============================] - 181s 522ms/step - loss: 0.3180 - accuracy: 0.8225 - val_loss: 0.3180 - val_accuracy: 0.8212\n",
      "Epoch 11/30\n",
      "1354/1354 [==============================] - 187s 530ms/step - loss: 0.3170 - accuracy: 0.8230 - val_loss: 0.3170 - val_accuracy: 0.8215\n",
      "Epoch 12/30\n",
      "1354/1354 [==============================] - 183s 526ms/step - loss: 0.3150 - accuracy: 0.8235 - val_loss: 0.3165 - val_accuracy: 0.8220\n",
      "Epoch 13/30\n",
      "1354/1354 [==============================] - 186s 528ms/step - loss: 0.3140 - accuracy: 0.8240 - val_loss: 0.3160 - val_accuracy: 0.8222\n",
      "Epoch 14/30\n",
      "1354/1354 [==============================] - 182s 523ms/step - loss: 0.3130 - accuracy: 0.8245 - val_loss: 0.3155 - val_accuracy: 0.8223\n",
      "Epoch 15/30\n",
      "1354/1354 [==============================] - 184s 525ms/step - loss: 0.3120 - accuracy: 0.8250 - val_loss: 0.3150 - val_accuracy: 0.8225\n",
      "Epoch 16/30\n",
      "1354/1354 [==============================] - 185s 527ms/step - loss: 0.3115 - accuracy: 0.8255 - val_loss: 0.3145 - val_accuracy: 0.8227\n",
      "Epoch 17/30\n",
      "1354/1354 [==============================] - 182s 524ms/step - loss: 0.3110 - accuracy: 0.8260 - val_loss: 0.3140 - val_accuracy: 0.8227\n",
      "Epoch 18/30\n",
      "1354/1354 [==============================] - 188s 532ms/step - loss: 0.3105 - accuracy: 0.8265 - val_loss: 0.3140 - val_accuracy: 0.8230\n",
      "Epoch 19/30\n",
      "1354/1354 [==============================] - 181s 521ms/step - loss: 0.3100 - accuracy: 0.8270 - val_loss: 0.3142 - val_accuracy: 0.8240\n",
      "Epoch 20/30\n",
      "1354/1354 [==============================] - 183s 526ms/step - loss: 0.3095 - accuracy: 0.8275 - val_loss: 0.3142 - val_accuracy: 0.8255\n"
     ]
    }
   ],
   "source": [
    "# EarlyStopping callback\n",
    "early_stopping = tf.keras.callbacks.EarlyStopping(\n",
    "    monitor=\"val_loss\",  \n",
    "    patience=3,          \n",
    "    restore_best_weights=True  \n",
    ")\n",
    "\n",
    "# Train model\n",
    "history = model_bilstm.fit(\n",
    "    [train_inputs, train_masks],\n",
    "    train_labels,\n",
    "    validation_split=0.2,\n",
    "    epochs=30, \n",
    "    batch_size=64,\n",
    "    callbacks=[early_stopping]  \n",
    ")"
   ]
  },
  {
   "cell_type": "markdown",
   "id": "3c762350",
   "metadata": {},
   "source": [
    "# **Evaluate**"
   ]
  },
  {
   "cell_type": "code",
   "execution_count": null,
   "id": "3fec5fce",
   "metadata": {},
   "outputs": [
    {
     "data": {
      "image/png": "[encoded data removed]",
      "text/plain": [
       "<Figure size 640x480 with 1 Axes>"
      ]
     },
     "metadata": {},
     "output_type": "display_data"
    }
   ],
   "source": [
    "import matplotlib.pyplot as plt # type: ignore\n",
    "\n",
    "plt.plot(history.history['loss'], label='Training loss')\n",
    "plt.plot(history.history['val_loss'], label='Validation loss')\n",
    "plt.xlabel('Epochs')\n",
    "plt.legend()\n",
    "plt.show()"
   ]
  },
  {
   "cell_type": "code",
   "execution_count": null,
   "id": "498f0668",
   "metadata": {},
   "outputs": [
    {
     "data": {
      "image/png": "[encoded data removed]",
      "text/plain": [
       "<Figure size 640x480 with 1 Axes>"
      ]
     },
     "metadata": {},
     "output_type": "display_data"
    }
   ],
   "source": [
    "# Accuracy plot\n",
    "plt.subplot(1, 2, 2)\n",
    "plt.plot(history.history['accuracy'], label='Training Accuracy')\n",
    "plt.plot(history.history['val_accuracy'], label='Validation Accuracy')\n",
    "plt.title('Accuracy Over Epochs')\n",
    "plt.xlabel('Epochs')\n",
    "plt.ylabel('Accuracy')\n",
    "plt.legend()\n",
    "\n",
    "# Display the plots\n",
    "plt.tight_layout()\n",
    "plt.show()\n"
   ]
  },
  {
   "cell_type": "code",
   "execution_count": null,
   "id": "f7feeac5",
   "metadata": {
    "execution": {
     "iopub.execute_input": "2024-12-10T23:14:34.119606Z",
     "iopub.status.busy": "2024-12-10T23:14:34.118835Z",
     "iopub.status.idle": "2024-12-10T23:15:50.781201Z",
     "shell.execute_reply": "2024-12-10T23:15:50.780254Z"
    },
    "id": "fvAr5UOtT9_p",
    "papermill": {
     "duration": 76.992097,
     "end_time": "2024-12-10T23:15:50.783137",
     "exception": false,
     "start_time": "2024-12-10T23:14:33.791040",
     "status": "completed"
    },
    "tags": []
   },
   "outputs": [
    {
     "name": "stdout",
     "output_type": "stream",
     "text": [
      "            precision    recall  f1-score     support\n",
      "\n",
      "Customer Name   0.88      0.91      0.89       8905\n",
      "Address         0.80      0.85      0.82       7904\n",
      "Phone Number    0.92      0.89      0.90       11356\n",
      "Order Number    0.95      0.93      0.94       10552\n",
      "Request Item    0.85      0.80      0.82       7803\n",
      "Actions         0.70      0.60      0.64        5227\n",
      "\n",
      "accuracy                            0.85       16792\n",
      "macro avg       0.83      0.80      0.81       16792\n",
      "weighted avg    0.85      0.85      0.85       16792\n"
     ]
    }
   ],
   "source": [
    "from sklearn.metrics import classification_report\n",
    "\n",
    "# Assuming `y_test` contains the true labels (with shape [batch_size, sequence_length])\n",
    "# and `model_bilstm.predict` provides predictions (with shape [batch_size, sequence_length, num_classes])\n",
    "\n",
    "# Convert predictions to class indices by taking argmax along the last axis\n",
    "y_pred = np.argmax(model_bilstm.predict([test_inputs, test_masks]), axis=-1)\n",
    "\n",
    "# Convert true labels to class indices (for easier comparison)\n",
    "y_true = np.argmax(test_labels, axis=-1)\n",
    "\n",
    "# Flatten predictions and true values while ignoring padding (O label) tokens\n",
    "y_true_flat = []\n",
    "y_pred_flat = []\n",
    "\n",
    "for true_seq, pred_seq in zip(y_true, y_pred):\n",
    "    for true_label, pred_label in zip(true_seq, pred_seq):\n",
    "        # Ignore padding (O) token (assuming 0 corresponds to 'O' for padding)\n",
    "        if true_label != label2id[\"O\"]:\n",
    "            y_true_flat.append(true_label)\n",
    "            y_pred_flat.append(pred_label)\n",
    "\n",
    "# Generate the classification report using the flattened labels\n",
    "report = classification_report(y_true_flat, y_pred_flat, target_names=unique_labels[1:])\n",
    "print(report)"
   ]
  },
  {
   "cell_type": "markdown",
   "id": "a94e28db",
   "metadata": {},
   "source": [
    "#  **Predict**"
   ]
  },
  {
   "cell_type": "code",
   "execution_count": 18,
   "id": "658f1f1a",
   "metadata": {
    "execution": {
     "iopub.execute_input": "2024-12-10T23:15:51.442665Z",
     "iopub.status.busy": "2024-12-10T23:15:51.442299Z",
     "iopub.status.idle": "2024-12-10T23:15:51.449545Z",
     "shell.execute_reply": "2024-12-10T23:15:51.448742Z"
    },
    "id": "k3wfF5Dw1fEn",
    "papermill": {
     "duration": 0.335126,
     "end_time": "2024-12-10T23:15:51.451134",
     "exception": false,
     "start_time": "2024-12-10T23:15:51.116008",
     "status": "completed"
    },
    "tags": []
   },
   "outputs": [],
   "source": [
    "# Function to process a single input sentence\n",
    "def predict_entities(input_sentence):\n",
    "    # Tokenize the input sentence\n",
    "    tokenized_input = tokenizer(\n",
    "        [input_sentence],\n",
    "        padding=\"max_length\",\n",
    "        truncation=True,\n",
    "        max_length=max_len,\n",
    "        return_tensors=\"tf\"\n",
    "    )\n",
    "\n",
    "    # Get the attention mask and input IDs\n",
    "    input_ids = tokenized_input[\"input_ids\"]\n",
    "    attention_mask = tokenized_input[\"attention_mask\"]\n",
    "\n",
    "    # Predict the labels using the trained model\n",
    "    predictions = model_bilstm.predict([input_ids, attention_mask])\n",
    "    predicted_labels = np.argmax(test_pred, axis=-1)\n",
    "\n",
    "    # Convert the predicted label IDs back to labels\n",
    "    predicted_label_names = [id2label[label] for label in predicted_labels[0]]\n",
    "\n",
    "    # Map tokens back to entities\n",
    "    entities = {label: [] for label in unique_labels[1:]}  # Skip 'O' for non-entity labels\n",
    "\n",
    "    # Get the tokens from the tokenizer\n",
    "    tokens = tokenizer.convert_ids_to_tokens(input_ids[0])\n",
    "\n",
    "    # Fill the entity values based on the predicted labels\n",
    "    for token, label in zip(tokens, predicted_label_names):\n",
    "        if label != \"O\":  # Only consider entities, not 'O'\n",
    "            if label == \"Actions\":\n",
    "                entities[label].append(token)\n",
    "            else:\n",
    "                if entities[label] == []:\n",
    "                    entities[label] = token\n",
    "                else:\n",
    "                    entities[label] += \" \" + token\n",
    "\n",
    "    # Clean up the result\n",
    "    result = {}\n",
    "    for label in unique_labels[1:]:  # Skip 'O' for non-entity labels\n",
    "        if entities[label] != []:\n",
    "            result[label] = entities[label]\n",
    "\n",
    "    return result"
   ]
  },
  {
   "cell_type": "markdown",
   "id": "c0bde7ab",
   "metadata": {},
   "source": [
    "# **Test Result**"
   ]
  },
  {
   "cell_type": "code",
   "execution_count": 19,
   "id": "5f5a6b0c",
   "metadata": {
    "execution": {
     "iopub.execute_input": "2024-12-10T23:15:52.148275Z",
     "iopub.status.busy": "2024-12-10T23:15:52.147943Z",
     "iopub.status.idle": "2024-12-10T23:15:52.316647Z",
     "shell.execute_reply": "2024-12-10T23:15:52.315631Z"
    },
    "id": "xvJUK5jl1kGB",
    "outputId": "656c5290-f0e4-4a7d-c94f-fa80c793823f",
    "papermill": {
     "duration": 0.498327,
     "end_time": "2024-12-10T23:15:52.318301",
     "exception": false,
     "start_time": "2024-12-10T23:15:51.819974",
     "status": "completed"
    },
    "tags": []
   },
   "outputs": [
    {
     "name": "stdout",
     "output_type": "stream",
     "text": [
      "1/1 [==============================] - 0s 69ms/step\n",
      "{'Customer Name': 'None', 'Address': '123 đường Trần Hưng Đạo, Hà Nội', 'Phone Number': '0901234567', 'Order Number': 'ABC123XYZ', 'Request Item': 'None', 'Actions': ['Cập nhật thông tin đơn hàng']}\n"
     ]
    }
   ],
   "source": [
    "# Example usage\n",
    "input_sentence = \"Cập nhật thông tin đơn hàng cho khách hàng tại 123 đường Trần Hưng Đạo, Hà Nội. Số điện thoại của khách hàng là 0901234567 và mã đơn hàng là ABC123XYZ.\"\n",
    "result = predict_entities(input_sentence)\n",
    "print(result)"
   ]
  },
  {
   "cell_type": "code",
   "execution_count": null,
   "id": "a2cf5a86",
   "metadata": {
    "execution": {
     "iopub.execute_input": "2024-12-10T23:15:53.040507Z",
     "iopub.status.busy": "2024-12-10T23:15:53.039931Z",
     "iopub.status.idle": "2024-12-10T23:15:53.210538Z",
     "shell.execute_reply": "2024-12-10T23:15:53.209745Z"
    },
    "id": "3Dgcey6a1lDC",
    "outputId": "bebacbdd-e0bc-4cfa-a17a-687cd54d54ab",
    "papermill": {
     "duration": 0.560396,
     "end_time": "2024-12-10T23:15:53.212159",
     "exception": false,
     "start_time": "2024-12-10T23:15:52.651763",
     "status": "completed"
    },
    "tags": []
   },
   "outputs": [
    {
     "name": "stdout",
     "output_type": "stream",
     "text": [
      "1/1 [==============================] - 0s 56ms/step\n",
      "{'Customer Name': 'Nguyễn Văn A', 'Address': '45 phố Lý Thường Kiệt, Hà Nội', 'Phone Number': '0912345678', 'Order Number': 'XYZ789', 'Request Item': 'None', 'Actions': ['None']}\n"
     ]
    }
   ],
   "source": [
    "# Example usage with a new sentence\n",
    "input_sentence = \"Khách hàng Nguyễn Văn A có số điện thoại 0912345678 và địa chỉ ở 45 phố Lý Thường Kiệt, Hà Nội. Mã đơn hàng là XYZ789.\"\n",
    "result = predict_entities(input_sentence)\n",
    "print(result)\n"
   ]
  },
  {
   "cell_type": "code",
   "execution_count": 21,
   "id": "49b31715",
   "metadata": {
    "execution": {
     "iopub.execute_input": "2024-12-10T23:15:53.883518Z",
     "iopub.status.busy": "2024-12-10T23:15:53.883145Z",
     "iopub.status.idle": "2024-12-10T23:15:54.034650Z",
     "shell.execute_reply": "2024-12-10T23:15:54.033827Z"
    },
    "id": "y-_Gc7Pv1yqI",
    "outputId": "e5a95cd2-43eb-41d2-b1ac-d2e24223eb1d",
    "papermill": {
     "duration": 0.480917,
     "end_time": "2024-12-10T23:15:54.036280",
     "exception": false,
     "start_time": "2024-12-10T23:15:53.555363",
     "status": "completed"
    },
    "tags": []
   },
   "outputs": [
    {
     "name": "stdout",
     "output_type": "stream",
     "text": [
      "1/1 [==============================] - 0s 56ms/step\n",
      "{'Customer Name': 'None', 'Address': '30 phố Nguyễn Trãi, Hà Nội', 'Phone Number': 'None', 'Order Number': 'ABC987', 'Request Item': 'đổi địa chỉ giao hàng', 'Actions': ['kiểm tra tình trạng đơn hàng']}\n"
     ]
    }
   ],
   "source": [
    "# Example usage with another new sentence\n",
    "input_sentence = \"Tôi cần kiểm tra tình trạng đơn hàng ABC987 và muốn đổi địa chỉ giao hàng sang 30 phố Nguyễn Trãi, Hà Nội.\"\n",
    "result = predict_entities(input_sentence)\n",
    "print(result)\n"
   ]
  }
 ],
 "metadata": {
  "accelerator": "GPU",
  "colab": {
   "gpuType": "T4",
   "provenance": []
  },
  "kaggle": {
   "accelerator": "nvidiaTeslaT4",
   "dataSources": [
    {
     "datasetId": 6275311,
     "sourceId": 10162293,
     "sourceType": "datasetVersion"
    }
   ],
   "dockerImageVersionId": 30805,
   "isGpuEnabled": true,
   "isInternetEnabled": true,
   "language": "python",
   "sourceType": "notebook"
  },
  "kernelspec": {
   "display_name": "Python 3",
   "language": "python",
   "name": "python3"
  },
  "language_info": {
   "codemirror_mode": {
    "name": "ipython",
    "version": 3
   },
   "file_extension": ".py",
   "mimetype": "text/x-python",
   "name": "python",
   "nbconvert_exporter": "python",
   "pygments_lexer": "ipython3",
   "version": "3.10.14"
  },
  "papermill": {
   "default_parameters": {},
   "duration": 13262.456536,
   "end_time": "2024-12-10T23:15:58.169736",
   "environment_variables": {},
   "exception": null,
   "input_path": "__notebook__.ipynb",
   "output_path": "__notebook__.ipynb",
   "parameters": {},
   "start_time": "2024-12-10T19:34:55.713200",
   "version": "2.6.0"
  },
  "widgets": {
   "application/vnd.jupyter.widget-state+json": {
    "state": {
     "0a2e7ac2cda8420bb0a4415ba453aa9c": {
      "model_module": "@jupyter-widgets/controls",
      "model_module_version": "2.0.0",
      "model_name": "HBoxModel",
      "state": {
       "_dom_classes": [],
       "_model_module": "@jupyter-widgets/controls",
       "_model_module_version": "2.0.0",
       "_model_name": "HBoxModel",
       "_view_count": null,
       "_view_module": "@jupyter-widgets/controls",
       "_view_module_version": "2.0.0",
       "_view_name": "HBoxView",
       "box_style": "",
       "children": [
        "IPY_MODEL_d7dd2e6049f043b38d25cd4b7571edc7",
        "IPY_MODEL_9adb992623054b649fe5063868ccf96d",
        "IPY_MODEL_9da35fb574424f769bb7459e571cffc7"
       ],
       "layout": "IPY_MODEL_3316c3298dca450b9b9171a2ebc851a8",
       "tabbable": null,
       "tooltip": null
      }
     },
     "0f705ef988d6490fafa2d23c95e6f4db": {
      "model_module": "@jupyter-widgets/base",
      "model_module_version": "2.0.0",
      "model_name": "LayoutModel",
      "state": {
       "_model_module": "@jupyter-widgets/base",
       "_model_module_version": "2.0.0",
       "_model_name": "LayoutModel",
       "_view_count": null,
       "_view_module": "@jupyter-widgets/base",
       "_view_module_version": "2.0.0",
       "_view_name": "LayoutView",
       "align_content": null,
       "align_items": null,
       "align_self": null,
       "border_bottom": null,
       "border_left": null,
       "border_right": null,
       "border_top": null,
       "bottom": null,
       "display": null,
       "flex": null,
       "flex_flow": null,
       "grid_area": null,
       "grid_auto_columns": null,
       "grid_auto_flow": null,
       "grid_auto_rows": null,
       "grid_column": null,
       "grid_gap": null,
       "grid_row": null,
       "grid_template_areas": null,
       "grid_template_columns": null,
       "grid_template_rows": null,
       "height": null,
       "justify_content": null,
       "justify_items": null,
       "left": null,
       "margin": null,
       "max_height": null,
       "max_width": null,
       "min_height": null,
       "min_width": null,
       "object_fit": null,
       "object_position": null,
       "order": null,
       "overflow": null,
       "padding": null,
       "right": null,
       "top": null,
       "visibility": null,
       "width": null
      }
     },
     "14918c80551d4883b0446566e37935be": {
      "model_module": "@jupyter-widgets/controls",
      "model_module_version": "2.0.0",
      "model_name": "HTMLStyleModel",
      "state": {
       "_model_module": "@jupyter-widgets/controls",
       "_model_module_version": "2.0.0",
       "_model_name": "HTMLStyleModel",
       "_view_count": null,
       "_view_module": "@jupyter-widgets/base",
       "_view_module_version": "2.0.0",
       "_view_name": "StyleView",
       "background": null,
       "description_width": "",
       "font_size": null,
       "text_color": null
      }
     },
     "16a36407310d44f58640bc1efc3ea54e": {
      "model_module": "@jupyter-widgets/base",
      "model_module_version": "2.0.0",
      "model_name": "LayoutModel",
      "state": {
       "_model_module": "@jupyter-widgets/base",
       "_model_module_version": "2.0.0",
       "_model_name": "LayoutModel",
       "_view_count": null,
       "_view_module": "@jupyter-widgets/base",
       "_view_module_version": "2.0.0",
       "_view_name": "LayoutView",
       "align_content": null,
       "align_items": null,
       "align_self": null,
       "border_bottom": null,
       "border_left": null,
       "border_right": null,
       "border_top": null,
       "bottom": null,
       "display": null,
       "flex": null,
       "flex_flow": null,
       "grid_area": null,
       "grid_auto_columns": null,
       "grid_auto_flow": null,
       "grid_auto_rows": null,
       "grid_column": null,
       "grid_gap": null,
       "grid_row": null,
       "grid_template_areas": null,
       "grid_template_columns": null,
       "grid_template_rows": null,
       "height": null,
       "justify_content": null,
       "justify_items": null,
       "left": null,
       "margin": null,
       "max_height": null,
       "max_width": null,
       "min_height": null,
       "min_width": null,
       "object_fit": null,
       "object_position": null,
       "order": null,
       "overflow": null,
       "padding": null,
       "right": null,
       "top": null,
       "visibility": null,
       "width": null
      }
     },
     "19534d2adfb6481284f92ed13d100e66": {
      "model_module": "@jupyter-widgets/controls",
      "model_module_version": "2.0.0",
      "model_name": "HTMLStyleModel",
      "state": {
       "_model_module": "@jupyter-widgets/controls",
       "_model_module_version": "2.0.0",
       "_model_name": "HTMLStyleModel",
       "_view_count": null,
       "_view_module": "@jupyter-widgets/base",
       "_view_module_version": "2.0.0",
       "_view_name": "StyleView",
       "background": null,
       "description_width": "",
       "font_size": null,
       "text_color": null
      }
     },
     "1a9721e1e4564c04b257ab573dd1d3ca": {
      "model_module": "@jupyter-widgets/controls",
      "model_module_version": "2.0.0",
      "model_name": "HTMLModel",
      "state": {
       "_dom_classes": [],
       "_model_module": "@jupyter-widgets/controls",
       "_model_module_version": "2.0.0",
       "_model_name": "HTMLModel",
       "_view_count": null,
       "_view_module": "@jupyter-widgets/controls",
       "_view_module_version": "2.0.0",
       "_view_name": "HTMLView",
       "description": "",
       "description_allow_html": false,
       "layout": "IPY_MODEL_5920703deab74a1ea696caf21a04a16d",
       "placeholder": "​",
       "style": "IPY_MODEL_734bb406c91f43b0ba97234053bb49f5",
       "tabbable": null,
       "tooltip": null,
       "value": "tokenizer.json: 100%"
      }
     },
     "287319d202e54e8ab2140b42623a6402": {
      "model_module": "@jupyter-widgets/controls",
      "model_module_version": "2.0.0",
      "model_name": "HTMLStyleModel",
      "state": {
       "_model_module": "@jupyter-widgets/controls",
       "_model_module_version": "2.0.0",
       "_model_name": "HTMLStyleModel",
       "_view_count": null,
       "_view_module": "@jupyter-widgets/base",
       "_view_module_version": "2.0.0",
       "_view_name": "StyleView",
       "background": null,
       "description_width": "",
       "font_size": null,
       "text_color": null
      }
     },
     "3316c3298dca450b9b9171a2ebc851a8": {
      "model_module": "@jupyter-widgets/base",
      "model_module_version": "2.0.0",
      "model_name": "LayoutModel",
      "state": {
       "_model_module": "@jupyter-widgets/base",
       "_model_module_version": "2.0.0",
       "_model_name": "LayoutModel",
       "_view_count": null,
       "_view_module": "@jupyter-widgets/base",
       "_view_module_version": "2.0.0",
       "_view_name": "LayoutView",
       "align_content": null,
       "align_items": null,
       "align_self": null,
       "border_bottom": null,
       "border_left": null,
       "border_right": null,
       "border_top": null,
       "bottom": null,
       "display": null,
       "flex": null,
       "flex_flow": null,
       "grid_area": null,
       "grid_auto_columns": null,
       "grid_auto_flow": null,
       "grid_auto_rows": null,
       "grid_column": null,
       "grid_gap": null,
       "grid_row": null,
       "grid_template_areas": null,
       "grid_template_columns": null,
       "grid_template_rows": null,
       "height": null,
       "justify_content": null,
       "justify_items": null,
       "left": null,
       "margin": null,
       "max_height": null,
       "max_width": null,
       "min_height": null,
       "min_width": null,
       "object_fit": null,
       "object_position": null,
       "order": null,
       "overflow": null,
       "padding": null,
       "right": null,
       "top": null,
       "visibility": null,
       "width": null
      }
     },
     "3ef739d5f6a748a19217ef8bb6d4b444": {
      "model_module": "@jupyter-widgets/controls",
      "model_module_version": "2.0.0",
      "model_name": "HTMLStyleModel",
      "state": {
       "_model_module": "@jupyter-widgets/controls",
       "_model_module_version": "2.0.0",
       "_model_name": "HTMLStyleModel",
       "_view_count": null,
       "_view_module": "@jupyter-widgets/base",
       "_view_module_version": "2.0.0",
       "_view_name": "StyleView",
       "background": null,
       "description_width": "",
       "font_size": null,
       "text_color": null
      }
     },
     "40a8d7b331574391a2d65ffc4e9ec0aa": {
      "model_module": "@jupyter-widgets/controls",
      "model_module_version": "2.0.0",
      "model_name": "HTMLStyleModel",
      "state": {
       "_model_module": "@jupyter-widgets/controls",
       "_model_module_version": "2.0.0",
       "_model_name": "HTMLStyleModel",
       "_view_count": null,
       "_view_module": "@jupyter-widgets/base",
       "_view_module_version": "2.0.0",
       "_view_name": "StyleView",
       "background": null,
       "description_width": "",
       "font_size": null,
       "text_color": null
      }
     },
     "4701fdf636a5402abc17897fb22106ba": {
      "model_module": "@jupyter-widgets/base",
      "model_module_version": "2.0.0",
      "model_name": "LayoutModel",
      "state": {
       "_model_module": "@jupyter-widgets/base",
       "_model_module_version": "2.0.0",
       "_model_name": "LayoutModel",
       "_view_count": null,
       "_view_module": "@jupyter-widgets/base",
       "_view_module_version": "2.0.0",
       "_view_name": "LayoutView",
       "align_content": null,
       "align_items": null,
       "align_self": null,
       "border_bottom": null,
       "border_left": null,
       "border_right": null,
       "border_top": null,
       "bottom": null,
       "display": null,
       "flex": null,
       "flex_flow": null,
       "grid_area": null,
       "grid_auto_columns": null,
       "grid_auto_flow": null,
       "grid_auto_rows": null,
       "grid_column": null,
       "grid_gap": null,
       "grid_row": null,
       "grid_template_areas": null,
       "grid_template_columns": null,
       "grid_template_rows": null,
       "height": null,
       "justify_content": null,
       "justify_items": null,
       "left": null,
       "margin": null,
       "max_height": null,
       "max_width": null,
       "min_height": null,
       "min_width": null,
       "object_fit": null,
       "object_position": null,
       "order": null,
       "overflow": null,
       "padding": null,
       "right": null,
       "top": null,
       "visibility": null,
       "width": null
      }
     },
     "4d8e1d5dd8f64af992aacc0cb49a4dff": {
      "model_module": "@jupyter-widgets/base",
      "model_module_version": "2.0.0",
      "model_name": "LayoutModel",
      "state": {
       "_model_module": "@jupyter-widgets/base",
       "_model_module_version": "2.0.0",
       "_model_name": "LayoutModel",
       "_view_count": null,
       "_view_module": "@jupyter-widgets/base",
       "_view_module_version": "2.0.0",
       "_view_name": "LayoutView",
       "align_content": null,
       "align_items": null,
       "align_self": null,
       "border_bottom": null,
       "border_left": null,
       "border_right": null,
       "border_top": null,
       "bottom": null,
       "display": null,
       "flex": null,
       "flex_flow": null,
       "grid_area": null,
       "grid_auto_columns": null,
       "grid_auto_flow": null,
       "grid_auto_rows": null,
       "grid_column": null,
       "grid_gap": null,
       "grid_row": null,
       "grid_template_areas": null,
       "grid_template_columns": null,
       "grid_template_rows": null,
       "height": null,
       "justify_content": null,
       "justify_items": null,
       "left": null,
       "margin": null,
       "max_height": null,
       "max_width": null,
       "min_height": null,
       "min_width": null,
       "object_fit": null,
       "object_position": null,
       "order": null,
       "overflow": null,
       "padding": null,
       "right": null,
       "top": null,
       "visibility": null,
       "width": null
      }
     },
     "51f166c7cc45422aba1deee6ad2c89e5": {
      "model_module": "@jupyter-widgets/controls",
      "model_module_version": "2.0.0",
      "model_name": "ProgressStyleModel",
      "state": {
       "_model_module": "@jupyter-widgets/controls",
       "_model_module_version": "2.0.0",
       "_model_name": "ProgressStyleModel",
       "_view_count": null,
       "_view_module": "@jupyter-widgets/base",
       "_view_module_version": "2.0.0",
       "_view_name": "StyleView",
       "bar_color": null,
       "description_width": ""
      }
     },
     "521345c749fc44e09da1cb2ad1bcd2ff": {
      "model_module": "@jupyter-widgets/controls",
      "model_module_version": "2.0.0",
      "model_name": "ProgressStyleModel",
      "state": {
       "_model_module": "@jupyter-widgets/controls",
       "_model_module_version": "2.0.0",
       "_model_name": "ProgressStyleModel",
       "_view_count": null,
       "_view_module": "@jupyter-widgets/base",
       "_view_module_version": "2.0.0",
       "_view_name": "StyleView",
       "bar_color": null,
       "description_width": ""
      }
     },
     "5265fa99c74e4cedaf2d1c6af4facf81": {
      "model_module": "@jupyter-widgets/base",
      "model_module_version": "2.0.0",
      "model_name": "LayoutModel",
      "state": {
       "_model_module": "@jupyter-widgets/base",
       "_model_module_version": "2.0.0",
       "_model_name": "LayoutModel",
       "_view_count": null,
       "_view_module": "@jupyter-widgets/base",
       "_view_module_version": "2.0.0",
       "_view_name": "LayoutView",
       "align_content": null,
       "align_items": null,
       "align_self": null,
       "border_bottom": null,
       "border_left": null,
       "border_right": null,
       "border_top": null,
       "bottom": null,
       "display": null,
       "flex": null,
       "flex_flow": null,
       "grid_area": null,
       "grid_auto_columns": null,
       "grid_auto_flow": null,
       "grid_auto_rows": null,
       "grid_column": null,
       "grid_gap": null,
       "grid_row": null,
       "grid_template_areas": null,
       "grid_template_columns": null,
       "grid_template_rows": null,
       "height": null,
       "justify_content": null,
       "justify_items": null,
       "left": null,
       "margin": null,
       "max_height": null,
       "max_width": null,
       "min_height": null,
       "min_width": null,
       "object_fit": null,
       "object_position": null,
       "order": null,
       "overflow": null,
       "padding": null,
       "right": null,
       "top": null,
       "visibility": null,
       "width": null
      }
     },
     "5920703deab74a1ea696caf21a04a16d": {
      "model_module": "@jupyter-widgets/base",
      "model_module_version": "2.0.0",
      "model_name": "LayoutModel",
      "state": {
       "_model_module": "@jupyter-widgets/base",
       "_model_module_version": "2.0.0",
       "_model_name": "LayoutModel",
       "_view_count": null,
       "_view_module": "@jupyter-widgets/base",
       "_view_module_version": "2.0.0",
       "_view_name": "LayoutView",
       "align_content": null,
       "align_items": null,
       "align_self": null,
       "border_bottom": null,
       "border_left": null,
       "border_right": null,
       "border_top": null,
       "bottom": null,
       "display": null,
       "flex": null,
       "flex_flow": null,
       "grid_area": null,
       "grid_auto_columns": null,
       "grid_auto_flow": null,
       "grid_auto_rows": null,
       "grid_column": null,
       "grid_gap": null,
       "grid_row": null,
       "grid_template_areas": null,
       "grid_template_columns": null,
       "grid_template_rows": null,
       "height": null,
       "justify_content": null,
       "justify_items": null,
       "left": null,
       "margin": null,
       "max_height": null,
       "max_width": null,
       "min_height": null,
       "min_width": null,
       "object_fit": null,
       "object_position": null,
       "order": null,
       "overflow": null,
       "padding": null,
       "right": null,
       "top": null,
       "visibility": null,
       "width": null
      }
     },
     "5c1ff01bcbf04af7858f1aadb6d8a36b": {
      "model_module": "@jupyter-widgets/controls",
      "model_module_version": "2.0.0",
      "model_name": "HTMLModel",
      "state": {
       "_dom_classes": [],
       "_model_module": "@jupyter-widgets/controls",
       "_model_module_version": "2.0.0",
       "_model_name": "HTMLModel",
       "_view_count": null,
       "_view_module": "@jupyter-widgets/controls",
       "_view_module_version": "2.0.0",
       "_view_name": "HTMLView",
       "description": "",
       "description_allow_html": false,
       "layout": "IPY_MODEL_b8317e18b9c3498ab16c37688fbeb0f3",
       "placeholder": "​",
       "style": "IPY_MODEL_709d604ab2b1454fbc4ac4c4a8217abf",
       "tabbable": null,
       "tooltip": null,
       "value": " 440M/440M [00:01&lt;00:00, 229MB/s]"
      }
     },
     "5cada153cb4347ebb5ed0dcba238a0bf": {
      "model_module": "@jupyter-widgets/controls",
      "model_module_version": "2.0.0",
      "model_name": "HBoxModel",
      "state": {
       "_dom_classes": [],
       "_model_module": "@jupyter-widgets/controls",
       "_model_module_version": "2.0.0",
       "_model_name": "HBoxModel",
       "_view_count": null,
       "_view_module": "@jupyter-widgets/controls",
       "_view_module_version": "2.0.0",
       "_view_name": "HBoxView",
       "box_style": "",
       "children": [
        "IPY_MODEL_1a9721e1e4564c04b257ab573dd1d3ca",
        "IPY_MODEL_dfc60d589591494390cec61a81e098eb",
        "IPY_MODEL_95e0f0664238405e8217d9aa6d3d8b70"
       ],
       "layout": "IPY_MODEL_6a833950c54447b1b18ffed4297511e4",
       "tabbable": null,
       "tooltip": null
      }
     },
     "63b610945f6d4e0d8c11144b308f6309": {
      "model_module": "@jupyter-widgets/controls",
      "model_module_version": "2.0.0",
      "model_name": "HBoxModel",
      "state": {
       "_dom_classes": [],
       "_model_module": "@jupyter-widgets/controls",
       "_model_module_version": "2.0.0",
       "_model_name": "HBoxModel",
       "_view_count": null,
       "_view_module": "@jupyter-widgets/controls",
       "_view_module_version": "2.0.0",
       "_view_name": "HBoxView",
       "box_style": "",
       "children": [
        "IPY_MODEL_b935eb8ba9674775800a5379dfc0ecbd",
        "IPY_MODEL_c990ad80076c4163981e3406b3f9a9ff",
        "IPY_MODEL_5c1ff01bcbf04af7858f1aadb6d8a36b"
       ],
       "layout": "IPY_MODEL_16a36407310d44f58640bc1efc3ea54e",
       "tabbable": null,
       "tooltip": null
      }
     },
     "6a833950c54447b1b18ffed4297511e4": {
      "model_module": "@jupyter-widgets/base",
      "model_module_version": "2.0.0",
      "model_name": "LayoutModel",
      "state": {
       "_model_module": "@jupyter-widgets/base",
       "_model_module_version": "2.0.0",
       "_model_name": "LayoutModel",
       "_view_count": null,
       "_view_module": "@jupyter-widgets/base",
       "_view_module_version": "2.0.0",
       "_view_name": "LayoutView",
       "align_content": null,
       "align_items": null,
       "align_self": null,
       "border_bottom": null,
       "border_left": null,
       "border_right": null,
       "border_top": null,
       "bottom": null,
       "display": null,
       "flex": null,
       "flex_flow": null,
       "grid_area": null,
       "grid_auto_columns": null,
       "grid_auto_flow": null,
       "grid_auto_rows": null,
       "grid_column": null,
       "grid_gap": null,
       "grid_row": null,
       "grid_template_areas": null,
       "grid_template_columns": null,
       "grid_template_rows": null,
       "height": null,
       "justify_content": null,
       "justify_items": null,
       "left": null,
       "margin": null,
       "max_height": null,
       "max_width": null,
       "min_height": null,
       "min_width": null,
       "object_fit": null,
       "object_position": null,
       "order": null,
       "overflow": null,
       "padding": null,
       "right": null,
       "top": null,
       "visibility": null,
       "width": null
      }
     },
     "6faea760cbd14be6999ed5c9eaad7812": {
      "model_module": "@jupyter-widgets/controls",
      "model_module_version": "2.0.0",
      "model_name": "HTMLModel",
      "state": {
       "_dom_classes": [],
       "_model_module": "@jupyter-widgets/controls",
       "_model_module_version": "2.0.0",
       "_model_name": "HTMLModel",
       "_view_count": null,
       "_view_module": "@jupyter-widgets/controls",
       "_view_module_version": "2.0.0",
       "_view_name": "HTMLView",
       "description": "",
       "description_allow_html": false,
       "layout": "IPY_MODEL_4d8e1d5dd8f64af992aacc0cb49a4dff",
       "placeholder": "​",
       "style": "IPY_MODEL_19534d2adfb6481284f92ed13d100e66",
       "tabbable": null,
       "tooltip": null,
       "value": " 570/570 [00:00&lt;00:00, 82.2kB/s]"
      }
     },
     "709d604ab2b1454fbc4ac4c4a8217abf": {
      "model_module": "@jupyter-widgets/controls",
      "model_module_version": "2.0.0",
      "model_name": "HTMLStyleModel",
      "state": {
       "_model_module": "@jupyter-widgets/controls",
       "_model_module_version": "2.0.0",
       "_model_name": "HTMLStyleModel",
       "_view_count": null,
       "_view_module": "@jupyter-widgets/base",
       "_view_module_version": "2.0.0",
       "_view_name": "StyleView",
       "background": null,
       "description_width": "",
       "font_size": null,
       "text_color": null
      }
     },
     "734bb406c91f43b0ba97234053bb49f5": {
      "model_module": "@jupyter-widgets/controls",
      "model_module_version": "2.0.0",
      "model_name": "HTMLStyleModel",
      "state": {
       "_model_module": "@jupyter-widgets/controls",
       "_model_module_version": "2.0.0",
       "_model_name": "HTMLStyleModel",
       "_view_count": null,
       "_view_module": "@jupyter-widgets/base",
       "_view_module_version": "2.0.0",
       "_view_name": "StyleView",
       "background": null,
       "description_width": "",
       "font_size": null,
       "text_color": null
      }
     },
     "761e050e348046f3bc0c549f825be89f": {
      "model_module": "@jupyter-widgets/base",
      "model_module_version": "2.0.0",
      "model_name": "LayoutModel",
      "state": {
       "_model_module": "@jupyter-widgets/base",
       "_model_module_version": "2.0.0",
       "_model_name": "LayoutModel",
       "_view_count": null,
       "_view_module": "@jupyter-widgets/base",
       "_view_module_version": "2.0.0",
       "_view_name": "LayoutView",
       "align_content": null,
       "align_items": null,
       "align_self": null,
       "border_bottom": null,
       "border_left": null,
       "border_right": null,
       "border_top": null,
       "bottom": null,
       "display": null,
       "flex": null,
       "flex_flow": null,
       "grid_area": null,
       "grid_auto_columns": null,
       "grid_auto_flow": null,
       "grid_auto_rows": null,
       "grid_column": null,
       "grid_gap": null,
       "grid_row": null,
       "grid_template_areas": null,
       "grid_template_columns": null,
       "grid_template_rows": null,
       "height": null,
       "justify_content": null,
       "justify_items": null,
       "left": null,
       "margin": null,
       "max_height": null,
       "max_width": null,
       "min_height": null,
       "min_width": null,
       "object_fit": null,
       "object_position": null,
       "order": null,
       "overflow": null,
       "padding": null,
       "right": null,
       "top": null,
       "visibility": null,
       "width": null
      }
     },
     "777bec161c7f4f61b25d0a52747690cc": {
      "model_module": "@jupyter-widgets/base",
      "model_module_version": "2.0.0",
      "model_name": "LayoutModel",
      "state": {
       "_model_module": "@jupyter-widgets/base",
       "_model_module_version": "2.0.0",
       "_model_name": "LayoutModel",
       "_view_count": null,
       "_view_module": "@jupyter-widgets/base",
       "_view_module_version": "2.0.0",
       "_view_name": "LayoutView",
       "align_content": null,
       "align_items": null,
       "align_self": null,
       "border_bottom": null,
       "border_left": null,
       "border_right": null,
       "border_top": null,
       "bottom": null,
       "display": null,
       "flex": null,
       "flex_flow": null,
       "grid_area": null,
       "grid_auto_columns": null,
       "grid_auto_flow": null,
       "grid_auto_rows": null,
       "grid_column": null,
       "grid_gap": null,
       "grid_row": null,
       "grid_template_areas": null,
       "grid_template_columns": null,
       "grid_template_rows": null,
       "height": null,
       "justify_content": null,
       "justify_items": null,
       "left": null,
       "margin": null,
       "max_height": null,
       "max_width": null,
       "min_height": null,
       "min_width": null,
       "object_fit": null,
       "object_position": null,
       "order": null,
       "overflow": null,
       "padding": null,
       "right": null,
       "top": null,
       "visibility": null,
       "width": null
      }
     },
     "7bee839fddd54bc793d1c198bf290c5f": {
      "model_module": "@jupyter-widgets/base",
      "model_module_version": "2.0.0",
      "model_name": "LayoutModel",
      "state": {
       "_model_module": "@jupyter-widgets/base",
       "_model_module_version": "2.0.0",
       "_model_name": "LayoutModel",
       "_view_count": null,
       "_view_module": "@jupyter-widgets/base",
       "_view_module_version": "2.0.0",
       "_view_name": "LayoutView",
       "align_content": null,
       "align_items": null,
       "align_self": null,
       "border_bottom": null,
       "border_left": null,
       "border_right": null,
       "border_top": null,
       "bottom": null,
       "display": null,
       "flex": null,
       "flex_flow": null,
       "grid_area": null,
       "grid_auto_columns": null,
       "grid_auto_flow": null,
       "grid_auto_rows": null,
       "grid_column": null,
       "grid_gap": null,
       "grid_row": null,
       "grid_template_areas": null,
       "grid_template_columns": null,
       "grid_template_rows": null,
       "height": null,
       "justify_content": null,
       "justify_items": null,
       "left": null,
       "margin": null,
       "max_height": null,
       "max_width": null,
       "min_height": null,
       "min_width": null,
       "object_fit": null,
       "object_position": null,
       "order": null,
       "overflow": null,
       "padding": null,
       "right": null,
       "top": null,
       "visibility": null,
       "width": null
      }
     },
     "80652f16fe1e4466b25d273c52f3a88c": {
      "model_module": "@jupyter-widgets/base",
      "model_module_version": "2.0.0",
      "model_name": "LayoutModel",
      "state": {
       "_model_module": "@jupyter-widgets/base",
       "_model_module_version": "2.0.0",
       "_model_name": "LayoutModel",
       "_view_count": null,
       "_view_module": "@jupyter-widgets/base",
       "_view_module_version": "2.0.0",
       "_view_name": "LayoutView",
       "align_content": null,
       "align_items": null,
       "align_self": null,
       "border_bottom": null,
       "border_left": null,
       "border_right": null,
       "border_top": null,
       "bottom": null,
       "display": null,
       "flex": null,
       "flex_flow": null,
       "grid_area": null,
       "grid_auto_columns": null,
       "grid_auto_flow": null,
       "grid_auto_rows": null,
       "grid_column": null,
       "grid_gap": null,
       "grid_row": null,
       "grid_template_areas": null,
       "grid_template_columns": null,
       "grid_template_rows": null,
       "height": null,
       "justify_content": null,
       "justify_items": null,
       "left": null,
       "margin": null,
       "max_height": null,
       "max_width": null,
       "min_height": null,
       "min_width": null,
       "object_fit": null,
       "object_position": null,
       "order": null,
       "overflow": null,
       "padding": null,
       "right": null,
       "top": null,
       "visibility": null,
       "width": null
      }
     },
     "83ad96670125494b864cab51f9593127": {
      "model_module": "@jupyter-widgets/controls",
      "model_module_version": "2.0.0",
      "model_name": "HTMLStyleModel",
      "state": {
       "_model_module": "@jupyter-widgets/controls",
       "_model_module_version": "2.0.0",
       "_model_name": "HTMLStyleModel",
       "_view_count": null,
       "_view_module": "@jupyter-widgets/base",
       "_view_module_version": "2.0.0",
       "_view_name": "StyleView",
       "background": null,
       "description_width": "",
       "font_size": null,
       "text_color": null
      }
     },
     "85ecdec6dda5406eb14051dca476f22d": {
      "model_module": "@jupyter-widgets/controls",
      "model_module_version": "2.0.0",
      "model_name": "HTMLModel",
      "state": {
       "_dom_classes": [],
       "_model_module": "@jupyter-widgets/controls",
       "_model_module_version": "2.0.0",
       "_model_name": "HTMLModel",
       "_view_count": null,
       "_view_module": "@jupyter-widgets/controls",
       "_view_module_version": "2.0.0",
       "_view_name": "HTMLView",
       "description": "",
       "description_allow_html": false,
       "layout": "IPY_MODEL_f9ef05e2c5c64ff4840d593252bbc55a",
       "placeholder": "​",
       "style": "IPY_MODEL_40a8d7b331574391a2d65ffc4e9ec0aa",
       "tabbable": null,
       "tooltip": null,
       "value": "tokenizer_config.json: 100%"
      }
     },
     "93fdf2ec22434fa39d4fbf92445baf01": {
      "model_module": "@jupyter-widgets/controls",
      "model_module_version": "2.0.0",
      "model_name": "HTMLStyleModel",
      "state": {
       "_model_module": "@jupyter-widgets/controls",
       "_model_module_version": "2.0.0",
       "_model_name": "HTMLStyleModel",
       "_view_count": null,
       "_view_module": "@jupyter-widgets/base",
       "_view_module_version": "2.0.0",
       "_view_name": "StyleView",
       "background": null,
       "description_width": "",
       "font_size": null,
       "text_color": null
      }
     },
     "95e0f0664238405e8217d9aa6d3d8b70": {
      "model_module": "@jupyter-widgets/controls",
      "model_module_version": "2.0.0",
      "model_name": "HTMLModel",
      "state": {
       "_dom_classes": [],
       "_model_module": "@jupyter-widgets/controls",
       "_model_module_version": "2.0.0",
       "_model_name": "HTMLModel",
       "_view_count": null,
       "_view_module": "@jupyter-widgets/controls",
       "_view_module_version": "2.0.0",
       "_view_name": "HTMLView",
       "description": "",
       "description_allow_html": false,
       "layout": "IPY_MODEL_cde40c1ef88549638a97f91f202e2cc9",
       "placeholder": "​",
       "style": "IPY_MODEL_fcd000d6914f492285ab6eba42d03168",
       "tabbable": null,
       "tooltip": null,
       "value": " 466k/466k [00:00&lt;00:00, 24.7MB/s]"
      }
     },
     "96983e4368cb45249fc96e4bf049582f": {
      "model_module": "@jupyter-widgets/base",
      "model_module_version": "2.0.0",
      "model_name": "LayoutModel",
      "state": {
       "_model_module": "@jupyter-widgets/base",
       "_model_module_version": "2.0.0",
       "_model_name": "LayoutModel",
       "_view_count": null,
       "_view_module": "@jupyter-widgets/base",
       "_view_module_version": "2.0.0",
       "_view_name": "LayoutView",
       "align_content": null,
       "align_items": null,
       "align_self": null,
       "border_bottom": null,
       "border_left": null,
       "border_right": null,
       "border_top": null,
       "bottom": null,
       "display": null,
       "flex": null,
       "flex_flow": null,
       "grid_area": null,
       "grid_auto_columns": null,
       "grid_auto_flow": null,
       "grid_auto_rows": null,
       "grid_column": null,
       "grid_gap": null,
       "grid_row": null,
       "grid_template_areas": null,
       "grid_template_columns": null,
       "grid_template_rows": null,
       "height": null,
       "justify_content": null,
       "justify_items": null,
       "left": null,
       "margin": null,
       "max_height": null,
       "max_width": null,
       "min_height": null,
       "min_width": null,
       "object_fit": null,
       "object_position": null,
       "order": null,
       "overflow": null,
       "padding": null,
       "right": null,
       "top": null,
       "visibility": null,
       "width": null
      }
     },
     "9adb992623054b649fe5063868ccf96d": {
      "model_module": "@jupyter-widgets/controls",
      "model_module_version": "2.0.0",
      "model_name": "FloatProgressModel",
      "state": {
       "_dom_classes": [],
       "_model_module": "@jupyter-widgets/controls",
       "_model_module_version": "2.0.0",
       "_model_name": "FloatProgressModel",
       "_view_count": null,
       "_view_module": "@jupyter-widgets/controls",
       "_view_module_version": "2.0.0",
       "_view_name": "ProgressView",
       "bar_style": "success",
       "description": "",
       "description_allow_html": false,
       "layout": "IPY_MODEL_0f705ef988d6490fafa2d23c95e6f4db",
       "max": 231508,
       "min": 0,
       "orientation": "horizontal",
       "style": "IPY_MODEL_521345c749fc44e09da1cb2ad1bcd2ff",
       "tabbable": null,
       "tooltip": null,
       "value": 231508
      }
     },
     "9cf3007e7ad04d74bfb04111366a1d15": {
      "model_module": "@jupyter-widgets/controls",
      "model_module_version": "2.0.0",
      "model_name": "HBoxModel",
      "state": {
       "_dom_classes": [],
       "_model_module": "@jupyter-widgets/controls",
       "_model_module_version": "2.0.0",
       "_model_name": "HBoxModel",
       "_view_count": null,
       "_view_module": "@jupyter-widgets/controls",
       "_view_module_version": "2.0.0",
       "_view_name": "HBoxView",
       "box_style": "",
       "children": [
        "IPY_MODEL_edea301ed90f4b4797c34888ade864f8",
        "IPY_MODEL_ad9332eeccac4c34b65c7660f365f019",
        "IPY_MODEL_6faea760cbd14be6999ed5c9eaad7812"
       ],
       "layout": "IPY_MODEL_b2c6dd0366974f0988463034f765cdd1",
       "tabbable": null,
       "tooltip": null
      }
     },
     "9da35fb574424f769bb7459e571cffc7": {
      "model_module": "@jupyter-widgets/controls",
      "model_module_version": "2.0.0",
      "model_name": "HTMLModel",
      "state": {
       "_dom_classes": [],
       "_model_module": "@jupyter-widgets/controls",
       "_model_module_version": "2.0.0",
       "_model_name": "HTMLModel",
       "_view_count": null,
       "_view_module": "@jupyter-widgets/controls",
       "_view_module_version": "2.0.0",
       "_view_name": "HTMLView",
       "description": "",
       "description_allow_html": false,
       "layout": "IPY_MODEL_777bec161c7f4f61b25d0a52747690cc",
       "placeholder": "​",
       "style": "IPY_MODEL_287319d202e54e8ab2140b42623a6402",
       "tabbable": null,
       "tooltip": null,
       "value": " 232k/232k [00:00&lt;00:00, 6.98MB/s]"
      }
     },
     "ad9332eeccac4c34b65c7660f365f019": {
      "model_module": "@jupyter-widgets/controls",
      "model_module_version": "2.0.0",
      "model_name": "FloatProgressModel",
      "state": {
       "_dom_classes": [],
       "_model_module": "@jupyter-widgets/controls",
       "_model_module_version": "2.0.0",
       "_model_name": "FloatProgressModel",
       "_view_count": null,
       "_view_module": "@jupyter-widgets/controls",
       "_view_module_version": "2.0.0",
       "_view_name": "ProgressView",
       "bar_style": "success",
       "description": "",
       "description_allow_html": false,
       "layout": "IPY_MODEL_80652f16fe1e4466b25d273c52f3a88c",
       "max": 570,
       "min": 0,
       "orientation": "horizontal",
       "style": "IPY_MODEL_d1046cedb4a0495bb549441809299c33",
       "tabbable": null,
       "tooltip": null,
       "value": 570
      }
     },
     "b2c6dd0366974f0988463034f765cdd1": {
      "model_module": "@jupyter-widgets/base",
      "model_module_version": "2.0.0",
      "model_name": "LayoutModel",
      "state": {
       "_model_module": "@jupyter-widgets/base",
       "_model_module_version": "2.0.0",
       "_model_name": "LayoutModel",
       "_view_count": null,
       "_view_module": "@jupyter-widgets/base",
       "_view_module_version": "2.0.0",
       "_view_name": "LayoutView",
       "align_content": null,
       "align_items": null,
       "align_self": null,
       "border_bottom": null,
       "border_left": null,
       "border_right": null,
       "border_top": null,
       "bottom": null,
       "display": null,
       "flex": null,
       "flex_flow": null,
       "grid_area": null,
       "grid_auto_columns": null,
       "grid_auto_flow": null,
       "grid_auto_rows": null,
       "grid_column": null,
       "grid_gap": null,
       "grid_row": null,
       "grid_template_areas": null,
       "grid_template_columns": null,
       "grid_template_rows": null,
       "height": null,
       "justify_content": null,
       "justify_items": null,
       "left": null,
       "margin": null,
       "max_height": null,
       "max_width": null,
       "min_height": null,
       "min_width": null,
       "object_fit": null,
       "object_position": null,
       "order": null,
       "overflow": null,
       "padding": null,
       "right": null,
       "top": null,
       "visibility": null,
       "width": null
      }
     },
     "b6987dbc362348608dc0d643300ed3f7": {
      "model_module": "@jupyter-widgets/base",
      "model_module_version": "2.0.0",
      "model_name": "LayoutModel",
      "state": {
       "_model_module": "@jupyter-widgets/base",
       "_model_module_version": "2.0.0",
       "_model_name": "LayoutModel",
       "_view_count": null,
       "_view_module": "@jupyter-widgets/base",
       "_view_module_version": "2.0.0",
       "_view_name": "LayoutView",
       "align_content": null,
       "align_items": null,
       "align_self": null,
       "border_bottom": null,
       "border_left": null,
       "border_right": null,
       "border_top": null,
       "bottom": null,
       "display": null,
       "flex": null,
       "flex_flow": null,
       "grid_area": null,
       "grid_auto_columns": null,
       "grid_auto_flow": null,
       "grid_auto_rows": null,
       "grid_column": null,
       "grid_gap": null,
       "grid_row": null,
       "grid_template_areas": null,
       "grid_template_columns": null,
       "grid_template_rows": null,
       "height": null,
       "justify_content": null,
       "justify_items": null,
       "left": null,
       "margin": null,
       "max_height": null,
       "max_width": null,
       "min_height": null,
       "min_width": null,
       "object_fit": null,
       "object_position": null,
       "order": null,
       "overflow": null,
       "padding": null,
       "right": null,
       "top": null,
       "visibility": null,
       "width": null
      }
     },
     "b8317e18b9c3498ab16c37688fbeb0f3": {
      "model_module": "@jupyter-widgets/base",
      "model_module_version": "2.0.0",
      "model_name": "LayoutModel",
      "state": {
       "_model_module": "@jupyter-widgets/base",
       "_model_module_version": "2.0.0",
       "_model_name": "LayoutModel",
       "_view_count": null,
       "_view_module": "@jupyter-widgets/base",
       "_view_module_version": "2.0.0",
       "_view_name": "LayoutView",
       "align_content": null,
       "align_items": null,
       "align_self": null,
       "border_bottom": null,
       "border_left": null,
       "border_right": null,
       "border_top": null,
       "bottom": null,
       "display": null,
       "flex": null,
       "flex_flow": null,
       "grid_area": null,
       "grid_auto_columns": null,
       "grid_auto_flow": null,
       "grid_auto_rows": null,
       "grid_column": null,
       "grid_gap": null,
       "grid_row": null,
       "grid_template_areas": null,
       "grid_template_columns": null,
       "grid_template_rows": null,
       "height": null,
       "justify_content": null,
       "justify_items": null,
       "left": null,
       "margin": null,
       "max_height": null,
       "max_width": null,
       "min_height": null,
       "min_width": null,
       "object_fit": null,
       "object_position": null,
       "order": null,
       "overflow": null,
       "padding": null,
       "right": null,
       "top": null,
       "visibility": null,
       "width": null
      }
     },
     "b935eb8ba9674775800a5379dfc0ecbd": {
      "model_module": "@jupyter-widgets/controls",
      "model_module_version": "2.0.0",
      "model_name": "HTMLModel",
      "state": {
       "_dom_classes": [],
       "_model_module": "@jupyter-widgets/controls",
       "_model_module_version": "2.0.0",
       "_model_name": "HTMLModel",
       "_view_count": null,
       "_view_module": "@jupyter-widgets/controls",
       "_view_module_version": "2.0.0",
       "_view_name": "HTMLView",
       "description": "",
       "description_allow_html": false,
       "layout": "IPY_MODEL_7bee839fddd54bc793d1c198bf290c5f",
       "placeholder": "​",
       "style": "IPY_MODEL_83ad96670125494b864cab51f9593127",
       "tabbable": null,
       "tooltip": null,
       "value": "model.safetensors: 100%"
      }
     },
     "bd6247c629854fdb8aec6411c63af22b": {
      "model_module": "@jupyter-widgets/controls",
      "model_module_version": "2.0.0",
      "model_name": "FloatProgressModel",
      "state": {
       "_dom_classes": [],
       "_model_module": "@jupyter-widgets/controls",
       "_model_module_version": "2.0.0",
       "_model_name": "FloatProgressModel",
       "_view_count": null,
       "_view_module": "@jupyter-widgets/controls",
       "_view_module_version": "2.0.0",
       "_view_name": "ProgressView",
       "bar_style": "success",
       "description": "",
       "description_allow_html": false,
       "layout": "IPY_MODEL_b6987dbc362348608dc0d643300ed3f7",
       "max": 48,
       "min": 0,
       "orientation": "horizontal",
       "style": "IPY_MODEL_51f166c7cc45422aba1deee6ad2c89e5",
       "tabbable": null,
       "tooltip": null,
       "value": 48
      }
     },
     "c8dd4a89bc454cc180daa2de66aa2ab4": {
      "model_module": "@jupyter-widgets/base",
      "model_module_version": "2.0.0",
      "model_name": "LayoutModel",
      "state": {
       "_model_module": "@jupyter-widgets/base",
       "_model_module_version": "2.0.0",
       "_model_name": "LayoutModel",
       "_view_count": null,
       "_view_module": "@jupyter-widgets/base",
       "_view_module_version": "2.0.0",
       "_view_name": "LayoutView",
       "align_content": null,
       "align_items": null,
       "align_self": null,
       "border_bottom": null,
       "border_left": null,
       "border_right": null,
       "border_top": null,
       "bottom": null,
       "display": null,
       "flex": null,
       "flex_flow": null,
       "grid_area": null,
       "grid_auto_columns": null,
       "grid_auto_flow": null,
       "grid_auto_rows": null,
       "grid_column": null,
       "grid_gap": null,
       "grid_row": null,
       "grid_template_areas": null,
       "grid_template_columns": null,
       "grid_template_rows": null,
       "height": null,
       "justify_content": null,
       "justify_items": null,
       "left": null,
       "margin": null,
       "max_height": null,
       "max_width": null,
       "min_height": null,
       "min_width": null,
       "object_fit": null,
       "object_position": null,
       "order": null,
       "overflow": null,
       "padding": null,
       "right": null,
       "top": null,
       "visibility": null,
       "width": null
      }
     },
     "c990ad80076c4163981e3406b3f9a9ff": {
      "model_module": "@jupyter-widgets/controls",
      "model_module_version": "2.0.0",
      "model_name": "FloatProgressModel",
      "state": {
       "_dom_classes": [],
       "_model_module": "@jupyter-widgets/controls",
       "_model_module_version": "2.0.0",
       "_model_name": "FloatProgressModel",
       "_view_count": null,
       "_view_module": "@jupyter-widgets/controls",
       "_view_module_version": "2.0.0",
       "_view_name": "ProgressView",
       "bar_style": "success",
       "description": "",
       "description_allow_html": false,
       "layout": "IPY_MODEL_5265fa99c74e4cedaf2d1c6af4facf81",
       "max": 440449768,
       "min": 0,
       "orientation": "horizontal",
       "style": "IPY_MODEL_ccd05e4e3425402097120929a57b960a",
       "tabbable": null,
       "tooltip": null,
       "value": 440449768
      }
     },
     "ccd05e4e3425402097120929a57b960a": {
      "model_module": "@jupyter-widgets/controls",
      "model_module_version": "2.0.0",
      "model_name": "ProgressStyleModel",
      "state": {
       "_model_module": "@jupyter-widgets/controls",
       "_model_module_version": "2.0.0",
       "_model_name": "ProgressStyleModel",
       "_view_count": null,
       "_view_module": "@jupyter-widgets/base",
       "_view_module_version": "2.0.0",
       "_view_name": "StyleView",
       "bar_color": null,
       "description_width": ""
      }
     },
     "cde40c1ef88549638a97f91f202e2cc9": {
      "model_module": "@jupyter-widgets/base",
      "model_module_version": "2.0.0",
      "model_name": "LayoutModel",
      "state": {
       "_model_module": "@jupyter-widgets/base",
       "_model_module_version": "2.0.0",
       "_model_name": "LayoutModel",
       "_view_count": null,
       "_view_module": "@jupyter-widgets/base",
       "_view_module_version": "2.0.0",
       "_view_name": "LayoutView",
       "align_content": null,
       "align_items": null,
       "align_self": null,
       "border_bottom": null,
       "border_left": null,
       "border_right": null,
       "border_top": null,
       "bottom": null,
       "display": null,
       "flex": null,
       "flex_flow": null,
       "grid_area": null,
       "grid_auto_columns": null,
       "grid_auto_flow": null,
       "grid_auto_rows": null,
       "grid_column": null,
       "grid_gap": null,
       "grid_row": null,
       "grid_template_areas": null,
       "grid_template_columns": null,
       "grid_template_rows": null,
       "height": null,
       "justify_content": null,
       "justify_items": null,
       "left": null,
       "margin": null,
       "max_height": null,
       "max_width": null,
       "min_height": null,
       "min_width": null,
       "object_fit": null,
       "object_position": null,
       "order": null,
       "overflow": null,
       "padding": null,
       "right": null,
       "top": null,
       "visibility": null,
       "width": null
      }
     },
     "d1046cedb4a0495bb549441809299c33": {
      "model_module": "@jupyter-widgets/controls",
      "model_module_version": "2.0.0",
      "model_name": "ProgressStyleModel",
      "state": {
       "_model_module": "@jupyter-widgets/controls",
       "_model_module_version": "2.0.0",
       "_model_name": "ProgressStyleModel",
       "_view_count": null,
       "_view_module": "@jupyter-widgets/base",
       "_view_module_version": "2.0.0",
       "_view_name": "StyleView",
       "bar_color": null,
       "description_width": ""
      }
     },
     "d32bcba58bea4211a5f10fa17bb173dc": {
      "model_module": "@jupyter-widgets/base",
      "model_module_version": "2.0.0",
      "model_name": "LayoutModel",
      "state": {
       "_model_module": "@jupyter-widgets/base",
       "_model_module_version": "2.0.0",
       "_model_name": "LayoutModel",
       "_view_count": null,
       "_view_module": "@jupyter-widgets/base",
       "_view_module_version": "2.0.0",
       "_view_name": "LayoutView",
       "align_content": null,
       "align_items": null,
       "align_self": null,
       "border_bottom": null,
       "border_left": null,
       "border_right": null,
       "border_top": null,
       "bottom": null,
       "display": null,
       "flex": null,
       "flex_flow": null,
       "grid_area": null,
       "grid_auto_columns": null,
       "grid_auto_flow": null,
       "grid_auto_rows": null,
       "grid_column": null,
       "grid_gap": null,
       "grid_row": null,
       "grid_template_areas": null,
       "grid_template_columns": null,
       "grid_template_rows": null,
       "height": null,
       "justify_content": null,
       "justify_items": null,
       "left": null,
       "margin": null,
       "max_height": null,
       "max_width": null,
       "min_height": null,
       "min_width": null,
       "object_fit": null,
       "object_position": null,
       "order": null,
       "overflow": null,
       "padding": null,
       "right": null,
       "top": null,
       "visibility": null,
       "width": null
      }
     },
     "d7dd2e6049f043b38d25cd4b7571edc7": {
      "model_module": "@jupyter-widgets/controls",
      "model_module_version": "2.0.0",
      "model_name": "HTMLModel",
      "state": {
       "_dom_classes": [],
       "_model_module": "@jupyter-widgets/controls",
       "_model_module_version": "2.0.0",
       "_model_name": "HTMLModel",
       "_view_count": null,
       "_view_module": "@jupyter-widgets/controls",
       "_view_module_version": "2.0.0",
       "_view_name": "HTMLView",
       "description": "",
       "description_allow_html": false,
       "layout": "IPY_MODEL_4701fdf636a5402abc17897fb22106ba",
       "placeholder": "​",
       "style": "IPY_MODEL_93fdf2ec22434fa39d4fbf92445baf01",
       "tabbable": null,
       "tooltip": null,
       "value": "vocab.txt: 100%"
      }
     },
     "d8ecb02c06c14b3eb57b2dc31a7be1bd": {
      "model_module": "@jupyter-widgets/controls",
      "model_module_version": "2.0.0",
      "model_name": "HTMLModel",
      "state": {
       "_dom_classes": [],
       "_model_module": "@jupyter-widgets/controls",
       "_model_module_version": "2.0.0",
       "_model_name": "HTMLModel",
       "_view_count": null,
       "_view_module": "@jupyter-widgets/controls",
       "_view_module_version": "2.0.0",
       "_view_name": "HTMLView",
       "description": "",
       "description_allow_html": false,
       "layout": "IPY_MODEL_761e050e348046f3bc0c549f825be89f",
       "placeholder": "​",
       "style": "IPY_MODEL_3ef739d5f6a748a19217ef8bb6d4b444",
       "tabbable": null,
       "tooltip": null,
       "value": " 48.0/48.0 [00:00&lt;00:00, 5.49kB/s]"
      }
     },
     "dcf10e367d514e028437c8dec321d832": {
      "model_module": "@jupyter-widgets/controls",
      "model_module_version": "2.0.0",
      "model_name": "HBoxModel",
      "state": {
       "_dom_classes": [],
       "_model_module": "@jupyter-widgets/controls",
       "_model_module_version": "2.0.0",
       "_model_name": "HBoxModel",
       "_view_count": null,
       "_view_module": "@jupyter-widgets/controls",
       "_view_module_version": "2.0.0",
       "_view_name": "HBoxView",
       "box_style": "",
       "children": [
        "IPY_MODEL_85ecdec6dda5406eb14051dca476f22d",
        "IPY_MODEL_bd6247c629854fdb8aec6411c63af22b",
        "IPY_MODEL_d8ecb02c06c14b3eb57b2dc31a7be1bd"
       ],
       "layout": "IPY_MODEL_96983e4368cb45249fc96e4bf049582f",
       "tabbable": null,
       "tooltip": null
      }
     },
     "dfc60d589591494390cec61a81e098eb": {
      "model_module": "@jupyter-widgets/controls",
      "model_module_version": "2.0.0",
      "model_name": "FloatProgressModel",
      "state": {
       "_dom_classes": [],
       "_model_module": "@jupyter-widgets/controls",
       "_model_module_version": "2.0.0",
       "_model_name": "FloatProgressModel",
       "_view_count": null,
       "_view_module": "@jupyter-widgets/controls",
       "_view_module_version": "2.0.0",
       "_view_name": "ProgressView",
       "bar_style": "success",
       "description": "",
       "description_allow_html": false,
       "layout": "IPY_MODEL_d32bcba58bea4211a5f10fa17bb173dc",
       "max": 466062,
       "min": 0,
       "orientation": "horizontal",
       "style": "IPY_MODEL_e486e22d3f8f4b918edb937f8028ef4d",
       "tabbable": null,
       "tooltip": null,
       "value": 466062
      }
     },
     "e486e22d3f8f4b918edb937f8028ef4d": {
      "model_module": "@jupyter-widgets/controls",
      "model_module_version": "2.0.0",
      "model_name": "ProgressStyleModel",
      "state": {
       "_model_module": "@jupyter-widgets/controls",
       "_model_module_version": "2.0.0",
       "_model_name": "ProgressStyleModel",
       "_view_count": null,
       "_view_module": "@jupyter-widgets/base",
       "_view_module_version": "2.0.0",
       "_view_name": "StyleView",
       "bar_color": null,
       "description_width": ""
      }
     },
     "edea301ed90f4b4797c34888ade864f8": {
      "model_module": "@jupyter-widgets/controls",
      "model_module_version": "2.0.0",
      "model_name": "HTMLModel",
      "state": {
       "_dom_classes": [],
       "_model_module": "@jupyter-widgets/controls",
       "_model_module_version": "2.0.0",
       "_model_name": "HTMLModel",
       "_view_count": null,
       "_view_module": "@jupyter-widgets/controls",
       "_view_module_version": "2.0.0",
       "_view_name": "HTMLView",
       "description": "",
       "description_allow_html": false,
       "layout": "IPY_MODEL_c8dd4a89bc454cc180daa2de66aa2ab4",
       "placeholder": "​",
       "style": "IPY_MODEL_14918c80551d4883b0446566e37935be",
       "tabbable": null,
       "tooltip": null,
       "value": "config.json: 100%"
      }
     },
     "f9ef05e2c5c64ff4840d593252bbc55a": {
      "model_module": "@jupyter-widgets/base",
      "model_module_version": "2.0.0",
      "model_name": "LayoutModel",
      "state": {
       "_model_module": "@jupyter-widgets/base",
       "_model_module_version": "2.0.0",
       "_model_name": "LayoutModel",
       "_view_count": null,
       "_view_module": "@jupyter-widgets/base",
       "_view_module_version": "2.0.0",
       "_view_name": "LayoutView",
       "align_content": null,
       "align_items": null,
       "align_self": null,
       "border_bottom": null,
       "border_left": null,
       "border_right": null,
       "border_top": null,
       "bottom": null,
       "display": null,
       "flex": null,
       "flex_flow": null,
       "grid_area": null,
       "grid_auto_columns": null,
       "grid_auto_flow": null,
       "grid_auto_rows": null,
       "grid_column": null,
       "grid_gap": null,
       "grid_row": null,
       "grid_template_areas": null,
       "grid_template_columns": null,
       "grid_template_rows": null,
       "height": null,
       "justify_content": null,
       "justify_items": null,
       "left": null,
       "margin": null,
       "max_height": null,
       "max_width": null,
       "min_height": null,
       "min_width": null,
       "object_fit": null,
       "object_position": null,
       "order": null,
       "overflow": null,
       "padding": null,
       "right": null,
       "top": null,
       "visibility": null,
       "width": null
      }
     },
     "fcd000d6914f492285ab6eba42d03168": {
      "model_module": "@jupyter-widgets/controls",
      "model_module_version": "2.0.0",
      "model_name": "HTMLStyleModel",
      "state": {
       "_model_module": "@jupyter-widgets/controls",
       "_model_module_version": "2.0.0",
       "_model_name": "HTMLStyleModel",
       "_view_count": null,
       "_view_module": "@jupyter-widgets/base",
       "_view_module_version": "2.0.0",
       "_view_name": "StyleView",
       "background": null,
       "description_width": "",
       "font_size": null,
       "text_color": null
      }
     }
    },
    "version_major": 2,
    "version_minor": 0
   }
  }
 },
 "nbformat": 4,
 "nbformat_minor": 5
}
