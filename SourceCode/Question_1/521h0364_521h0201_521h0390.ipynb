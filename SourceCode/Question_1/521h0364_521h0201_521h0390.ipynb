{
 "cells": [
  {
   "cell_type": "markdown",
   "metadata": {},
   "source": [
    "# Lê Nguyễn Tuyết Nhi - 521h0364 \n",
    "# Trương Gia Bảo - 521h0201 \n",
    "# Vi Thành Đạt - 521h0390\n",
    "\n",
    "# Final Project "
   ]
  }
 ],
 "metadata": {
  "language_info": {
   "name": "python"
  }
 },
 "nbformat": 4,
 "nbformat_minor": 2
}
